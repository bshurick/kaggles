{
 "cells": [
  {
   "cell_type": "markdown",
   "metadata": {},
   "source": [
    "!cat Data/train.csv.gz | gzip -d | awk -F',' '$6==7440663949' > Data/example.txt"
   ]
  },
  {
   "cell_type": "code",
   "execution_count": 29,
   "metadata": {
    "collapsed": true
   },
   "outputs": [],
   "source": [
    "import pandas as pd\n",
    "import numpy as np\n",
    "\n",
    "import matplotlib.pyplot as plt\n",
    "%matplotlib inline"
   ]
  },
  {
   "cell_type": "code",
   "execution_count": 30,
   "metadata": {
    "collapsed": false
   },
   "outputs": [],
   "source": [
    "example = pd.read_csv('Data/example.txt'\n",
    "                      , sep=','\n",
    "                      , header=None\n",
    "                      , index_col=0)"
   ]
  },
  {
   "cell_type": "code",
   "execution_count": 31,
   "metadata": {
    "collapsed": false
   },
   "outputs": [],
   "source": [
    "example.columns = ['X','Y','accuracy','timestamp','place_id']"
   ]
  },
  {
   "cell_type": "markdown",
   "metadata": {},
   "source": [
    "#### test with means"
   ]
  },
  {
   "cell_type": "code",
   "execution_count": 32,
   "metadata": {
    "collapsed": true
   },
   "outputs": [],
   "source": [
    "mean_x, mean_y = np.mean(example['X']), np.mean(example['Y'])"
   ]
  },
  {
   "cell_type": "markdown",
   "metadata": {},
   "source": [
    "#### test with weighted calculation"
   ]
  },
  {
   "cell_type": "code",
   "execution_count": 33,
   "metadata": {
    "collapsed": true
   },
   "outputs": [],
   "source": [
    "example['weighted_accuracy'] = 1/(example['accuracy']*np.sum(1/example['accuracy']))"
   ]
  },
  {
   "cell_type": "code",
   "execution_count": 34,
   "metadata": {
    "collapsed": true
   },
   "outputs": [],
   "source": [
    "weighted_x = np.sum(example['X']*example['weighted_accuracy'])\n",
    "weighted_y = np.sum(example['Y']*example['weighted_accuracy'])"
   ]
  },
  {
   "cell_type": "markdown",
   "metadata": {},
   "source": [
    "#### median "
   ]
  },
  {
   "cell_type": "code",
   "execution_count": 35,
   "metadata": {
    "collapsed": true
   },
   "outputs": [],
   "source": [
    "median_x = np.median(example['X'])\n",
    "median_y = np.median(example['Y'])"
   ]
  },
  {
   "cell_type": "markdown",
   "metadata": {},
   "source": [
    "#### gather range stats"
   ]
  },
  {
   "cell_type": "code",
   "execution_count": 36,
   "metadata": {
    "collapsed": true
   },
   "outputs": [],
   "source": [
    "min_x, max_x = np.min(example['X']), np.max(example['X'])\n",
    "min_y, max_y = np.min(example['Y']), np.max(example['Y'])"
   ]
  },
  {
   "cell_type": "markdown",
   "metadata": {},
   "source": [
    "#### plot examples"
   ]
  },
  {
   "cell_type": "code",
   "execution_count": 37,
   "metadata": {
    "collapsed": false
   },
   "outputs": [
    {
     "data": {
      "text/plain": [
       "<matplotlib.text.Text at 0x104df3250>"
      ]
     },
     "execution_count": 37,
     "metadata": {},
     "output_type": "execute_result"
    },
    {
     "data": {
      "image/png": "[encoded data removed]",
      "text/plain": [
       "<matplotlib.figure.Figure at 0x105429310>"
      ]
     },
     "metadata": {},
     "output_type": "display_data"
    }
   ],
   "source": [
    "plt.plot(example['X'],example['Y'],'+')\n",
    "plt.plot(mean_x, mean_y,'ro')\n",
    "plt.plot(weighted_x, weighted_y,'yo')\n",
    "plt.plot(median_x, median_y,'go')\n",
    "plt.plot([min_x]*3, [weighted_y*.99,weighted_y,weighted_y*1.01],'g-')\n",
    "plt.plot([max_x]*3, [weighted_y*.99,weighted_y,weighted_y*1.01],'g-')\n",
    "plt.plot([weighted_x*.8,weighted_x,weighted_x*1.2], [min_y]*3,'g-')\n",
    "plt.plot([weighted_x*.8,weighted_x,weighted_x*1.2],[max_y]*3,'g-')\n",
    "plt.title('Points generally fit a gaussian distribution, with few extreme values \\\n",
    "\\nMedian is the best way to find the center.')"
   ]
  },
  {
   "cell_type": "markdown",
   "metadata": {},
   "source": [
    "#### times"
   ]
  },
  {
   "cell_type": "code",
   "execution_count": 38,
   "metadata": {
    "collapsed": false
   },
   "outputs": [
    {
     "data": {
      "text/plain": [
       "<matplotlib.text.Text at 0x1057bfcd0>"
      ]
     },
     "execution_count": 38,
     "metadata": {},
     "output_type": "execute_result"
    },
    {
     "data": {
      "image/png": "[encoded data removed]",
      "text/plain": [
       "<matplotlib.figure.Figure at 0x10552b050>"
      ]
     },
     "metadata": {},
     "output_type": "display_data"
    }
   ],
   "source": [
    "plt.plot(xrange(example.shape[0]),example['timestamp'].sort_values(),'-')\n",
    "plt.title('Constantly growing time')"
   ]
  },
  {
   "cell_type": "code",
   "execution_count": 39,
   "metadata": {
    "collapsed": false
   },
   "outputs": [
    {
     "name": "stdout",
     "output_type": "stream",
     "text": [
      "Example min: 95814, max: 782788\n"
     ]
    }
   ],
   "source": [
    "mn, mx = np.min(example['timestamp']),np.max(example['timestamp'])\n",
    "print 'Example min: {}, max: {}'.format(mn,mx)"
   ]
  },
  {
   "cell_type": "code",
   "execution_count": 40,
   "metadata": {
    "collapsed": false
   },
   "outputs": [
    {
     "data": {
      "text/plain": [
       "<matplotlib.text.Text at 0x10590b0d0>"
      ]
     },
     "execution_count": 40,
     "metadata": {},
     "output_type": "execute_result"
    },
    {
     "data": {
      "image/png": "[encoded data removed]",
      "text/plain": [
       "<matplotlib.figure.Figure at 0x1055f3490>"
      ]
     },
     "metadata": {},
     "output_type": "display_data"
    }
   ],
   "source": [
    "example['time_mod'] = example['timestamp'] % (60*24)\n",
    "_ = plt.hist(example['time_mod'].ravel(), 24)\n",
    "plt.title('Assuming that time is minutes elapsed \\\n",
    "\\n(Data represents a single day)')"
   ]
  },
  {
   "cell_type": "code",
   "execution_count": 41,
   "metadata": {
    "collapsed": false
   },
   "outputs": [
    {
     "data": {
      "text/plain": [
       "<matplotlib.text.Text at 0x105a11710>"
      ]
     },
     "execution_count": 41,
     "metadata": {},
     "output_type": "execute_result"
    },
    {
     "data": {
      "image/png": "[encoded data removed]",
      "text/plain": [
       "<matplotlib.figure.Figure at 0x1059695d0>"
      ]
     },
     "metadata": {},
     "output_type": "display_data"
    }
   ],
   "source": [
    "example['time_mod'] = example['timestamp'] % (3600*24)\n",
    "_ = plt.hist(example['time_mod'].ravel(), 24)\n",
    "plt.title('Assuming that time is seconds elapsed \\\n",
    "\\n(Doesn\\'t appear to correctly represent 1 day)')"
   ]
  },
  {
   "cell_type": "markdown",
   "metadata": {},
   "source": [
    "#### time for all training data"
   ]
  },
  {
   "cell_type": "code",
   "execution_count": 22,
   "metadata": {
    "collapsed": false
   },
   "outputs": [
    {
     "name": "stdout",
     "output_type": "stream",
     "text": [
      "1 786239 29118021\r\n"
     ]
    }
   ],
   "source": [
    "!cat Data/train.csv.gz | gzip -d | awk '\\\n",
    "BEGIN { min=1000000; max=0; rowcnt=0;} \\\n",
    "{ \\\n",
    "  if (NR>1) { \\\n",
    "      split($0,a,\",\"); \\\n",
    "      if (a[5]<min) { \\\n",
    "        min=a[5]; \\\n",
    "      } \\\n",
    "      if (a[5]>max) { \\\n",
    "        max=a[5]; \\\n",
    "      } \\\n",
    "      rowcnt+=1; \\\n",
    "   } \\\n",
    "} \\\n",
    "END { print min, max, rowcnt; }'"
   ]
  },
  {
   "cell_type": "code",
   "execution_count": 23,
   "metadata": {
    "collapsed": false
   },
   "outputs": [
    {
     "name": "stdout",
     "output_type": "stream",
     "text": [
      "\n",
      "If the dataset is elapsed seconds from the \n",
      "first record, the total elapsed time \n",
      "in the dataset is 9.1 days \n",
      "for 29.12 million records.\n",
      "\n",
      "If the time were minutes elapsed, \n",
      "the total elapsed time would be 545 days.\n",
      "\n",
      "If the time were miliseconds elapsed,\n",
      "the total elapsed time would be 0.2184 hours.\n",
      "\n"
     ]
    }
   ],
   "source": [
    "mx = 786239\n",
    "mn = 1\n",
    "print '''\n",
    "If the dataset is elapsed seconds from the \n",
    "first record, the total elapsed time \n",
    "in the dataset is {} days \n",
    "for {} million records.\n",
    "\n",
    "If the time were minutes elapsed, \n",
    "the total elapsed time would be {} days.\n",
    "\n",
    "If the time were miliseconds elapsed,\n",
    "the total elapsed time would be {} hours.\n",
    "'''.format(\n",
    "    round((mx-mn)*1.0/3600/24,1)\n",
    "    , round(29118021*1.0 / 1000000,2)\n",
    "    , (mx-mn)/60/24\n",
    "    , round((mx-mn)*1.0/(3600*1000),4)\n",
    ")"
   ]
  },
  {
   "cell_type": "code",
   "execution_count": 24,
   "metadata": {
    "collapsed": false
   },
   "outputs": [],
   "source": [
    "!cat Data/train.csv.gz | gzip -d | awk -F, '{print int($5%(24*60));}' \\\n",
    "| sort | uniq -c| sort -k2,2n > time.txt"
   ]
  },
  {
   "cell_type": "code",
   "execution_count": 25,
   "metadata": {
    "collapsed": false
   },
   "outputs": [
    {
     "name": "stderr",
     "output_type": "stream",
     "text": [
      "/Library/Python/2.7/site-packages/IPython/kernel/__main__.py:1: ParserWarning: Falling back to the 'python' engine because the 'c' engine does not support regex separators; you can avoid this warning by specifying engine='python'.\n",
      "  if __name__ == '__main__':\n"
     ]
    }
   ],
   "source": [
    "tm = pd.read_csv('time.txt',sep='\\s',header=None)"
   ]
  },
  {
   "cell_type": "code",
   "execution_count": 26,
   "metadata": {
    "collapsed": false
   },
   "outputs": [
    {
     "data": {
      "text/plain": [
       "[<matplotlib.lines.Line2D at 0x1054ff890>]"
      ]
     },
     "execution_count": 26,
     "metadata": {},
     "output_type": "execute_result"
    },
    {
     "data": {
      "image/png": "[encoded data removed]",
      "text/plain": [
       "<matplotlib.figure.Figure at 0x105359a90>"
      ]
     },
     "metadata": {},
     "output_type": "display_data"
    }
   ],
   "source": [
    "plt.plot(tm.iloc[:,1],tm.iloc[:,0])"
   ]
  },
  {
   "cell_type": "markdown",
   "metadata": {},
   "source": [
    "### Version 1"
   ]
  },
  {
   "cell_type": "markdown",
   "metadata": {},
   "source": [
    "#### MR job"
   ]
  },
  {
   "cell_type": "code",
   "execution_count": 117,
   "metadata": {
    "collapsed": false
   },
   "outputs": [
    {
     "name": "stdout",
     "output_type": "stream",
     "text": [
      "Overwriting process_places.py\n"
     ]
    }
   ],
   "source": [
    "%%writefile process_places.py\n",
    "from mrjob.job import MRJob\n",
    "from mrjob.step import MRStep\n",
    "from math import sqrt\n",
    "\n",
    "class ProcessPlaces(MRJob):\n",
    "    ''' Map-reduce job will read through \n",
    "        training data and create a file \n",
    "        with relevant metrics for each unique place_id\n",
    "        \n",
    "        The metrics are then used later in the \n",
    "        single-core python code \n",
    "    '''\n",
    "    def mapper(self, _, line):\n",
    "        ''' send data with place id '''\n",
    "        fields = line.split(',')\n",
    "        place_id = fields[-1]\n",
    "        row_id = fields[0]\n",
    "        x = fields[1]\n",
    "        y = fields[2]\n",
    "        accuracy = fields[3]\n",
    "        time = fields[4]\n",
    "        if row_id!='row_id':\n",
    "            yield place_id, {'row_id':row_id\n",
    "                             , 'x':float(x)\n",
    "                             , 'y':float(y)\n",
    "                             , 'accuracy':float(accuracy)\n",
    "                             , 'time':int(time)\n",
    "                             , 'time_hr':int(time)%(24*60)//60\n",
    "                            }\n",
    "    \n",
    "    def reducer(self, place_id, data_list):\n",
    "        ''' aggregate place data '''\n",
    "        def median(lst):\n",
    "            ''' Calculate the median\n",
    "                of a list of numbers\n",
    "            '''\n",
    "            lst = sorted(lst)\n",
    "            n = len(lst)\n",
    "            if n%2!=0:\n",
    "                i = n/2\n",
    "                return lst[i]*1.0\n",
    "            else:\n",
    "                i1 = n/2-1\n",
    "                i2 = i1+1\n",
    "                return (lst[i1]+lst[i2])*1.0/2\n",
    "        \n",
    "        # save generator as list object\n",
    "        # need to loop twice\n",
    "        dl = list(data_list)\n",
    "        \n",
    "        # calculate base metrics\n",
    "        n = 0\n",
    "        acc_sum = 0\n",
    "        inv_sum = 0\n",
    "        x_sum = 0\n",
    "        y_sum = 0\n",
    "        time_sum = 0\n",
    "        time_hours = {}\n",
    "        for d in dl:\n",
    "            n += 1\n",
    "            \n",
    "            # average accuracy \n",
    "            acc_sum += d['accuracy']\n",
    "            \n",
    "            # average inverse of accuracy\n",
    "            inv_sum += 1.0/d['accuracy']\n",
    "            \n",
    "            # average of x \n",
    "            x_sum += d['x']\n",
    "            \n",
    "            # average of y\n",
    "            y_sum += d['y']\n",
    "            \n",
    "            # average hour\n",
    "            time_sum += d['time_hr']\n",
    "            \n",
    "            # distribution of hours\n",
    "            if d['time_hr'] not in time_hours:\n",
    "                time_hours[d['time_hr']]=0\n",
    "            time_hours[d['time_hr']]+=1\n",
    "        \n",
    "        # calculate centers and standard deviations\n",
    "        mean_x = x_sum/n\n",
    "        mean_y = y_sum/n\n",
    "        mean_time = time_sum/n\n",
    "        mean_acc = acc_sum/n\n",
    "        center_x, center_y = 0, 0\n",
    "        weighted_x, weighted_y = 0, 0\n",
    "        sd_x, sd_y = 0, 0\n",
    "        sd_time = 0\n",
    "        sd_acc = 0\n",
    "        xs = []\n",
    "        ys = []\n",
    "        for d in dl:\n",
    "            xs.append(d['x'])\n",
    "            ys.append(d['y'])\n",
    "            inv_a = (1.0/d['accuracy'])/inv_sum\n",
    "            weighted_x += d['x']*inv_a\n",
    "            weighted_y += d['y']*inv_a\n",
    "            sd_x += (d['x']-mean_x)**2\n",
    "            sd_y += (d['y']-mean_y)**2\n",
    "            sd_time += (d['time_hr']-mean_time)**2\n",
    "            sd_acc += (d['accuracy']-mean_acc)**2\n",
    "            n += 1\n",
    "        sd_x /= n\n",
    "        sd_y /= n\n",
    "        sd_time /= n\n",
    "        sd_acc /= n\n",
    "        sd_x = sqrt(sd_x)\n",
    "        sd_y = sqrt(sd_y)\n",
    "        sd_time = sqrt(sd_time)\n",
    "        sd_acc = sqrt(sd_acc)\n",
    "        \n",
    "        # calculate medians\n",
    "        center_x = median(xs)\n",
    "        center_y = median(ys)\n",
    "        \n",
    "        # calculate unit value of accuracy\n",
    "        unit_acc = [0,0]\n",
    "        for d in dl:\n",
    "            unit_acc[0] += abs(d['x']-center_x)/d['accuracy']/n\n",
    "            unit_acc[1] += abs(d['y']-center_y)/d['accuracy']/n\n",
    "        unit_acc[0] = round(unit_acc[0],6)\n",
    "        unit_acc[1] = round(unit_acc[1],6)\n",
    "        \n",
    "        yield None, '|'.join(map(str,[\n",
    "                    place_id\n",
    "                    , round(center_x,4) \n",
    "                    , round(center_y,4)\n",
    "                    , round(sd_x,4)\n",
    "                    , round(sd_y,4)\n",
    "                    , int(mean_time)\n",
    "                    , round(sd_time,2)\n",
    "                    , round(sd_acc,4)\n",
    "                    , int(n)\n",
    "                    , unit_acc\n",
    "                    , time_hours\n",
    "                ]))\n",
    "    \n",
    "if __name__ == '__main__':\n",
    "    ProcessPlaces.run()"
   ]
  },
  {
   "cell_type": "code",
   "execution_count": 70,
   "metadata": {
    "collapsed": false
   },
   "outputs": [
    {
     "name": "stdout",
     "output_type": "stream",
     "text": [
      "no configs found; falling back on auto-configuration\n",
      "no configs found; falling back on auto-configuration\n",
      "creating tmp directory /var/folders/f8/70g84lyd3n387wjwhbfq4dp80000gn/T/process_places.bshur.20160618.075007.434889\n",
      "writing to /var/folders/f8/70g84lyd3n387wjwhbfq4dp80000gn/T/process_places.bshur.20160618.075007.434889/step-0-mapper_part-00000\n",
      "Counters from step 1:\n",
      "  (no counters found)\n",
      "writing to /var/folders/f8/70g84lyd3n387wjwhbfq4dp80000gn/T/process_places.bshur.20160618.075007.434889/step-0-mapper-sorted\n",
      "> sort /var/folders/f8/70g84lyd3n387wjwhbfq4dp80000gn/T/process_places.bshur.20160618.075007.434889/step-0-mapper_part-00000\n",
      "writing to /var/folders/f8/70g84lyd3n387wjwhbfq4dp80000gn/T/process_places.bshur.20160618.075007.434889/step-0-reducer_part-00000\n",
      "Counters from step 1:\n",
      "  (no counters found)\n",
      "Moving /var/folders/f8/70g84lyd3n387wjwhbfq4dp80000gn/T/process_places.bshur.20160618.075007.434889/step-0-reducer_part-00000 -> /var/folders/f8/70g84lyd3n387wjwhbfq4dp80000gn/T/process_places.bshur.20160618.075007.434889/output/part-00000\n",
      "Streaming final output from /var/folders/f8/70g84lyd3n387wjwhbfq4dp80000gn/T/process_places.bshur.20160618.075007.434889/output\n",
      "removing tmp directory /var/folders/f8/70g84lyd3n387wjwhbfq4dp80000gn/T/process_places.bshur.20160618.075007.434889\n"
     ]
    }
   ],
   "source": [
    "!python process_places.py --strict-protocols Data/example.txt > Data/processed_places_ex.txt"
   ]
  },
  {
   "cell_type": "code",
   "execution_count": 118,
   "metadata": {
    "collapsed": false
   },
   "outputs": [
    {
     "name": "stdout",
     "output_type": "stream",
     "text": [
      "null\t\"5662813655|5.8454|6.7676|0.956|0.0221|10|5.2|124.5537|1226|[0.059146, 0.001044]|{0: 25, 1: 25, 2: 28, 3: 28, 4: 53, 5: 30, 6: 32, 7: 37, 8: 28, 9: 20, 10: 29, 11: 23, 12: 22, 13: 22, 14: 19, 15: 21, 16: 11, 17: 7, 18: 7, 19: 17, 20: 14, 21: 38, 22: 35, 23: 42}\"\r\n"
     ]
    }
   ],
   "source": [
    "!head Data/processed_places_ex.txt"
   ]
  },
  {
   "cell_type": "code",
   "execution_count": 87,
   "metadata": {
    "collapsed": false
   },
   "outputs": [
    {
     "name": "stdout",
     "output_type": "stream",
     "text": [
      "no configs found; falling back on auto-configuration\n",
      "no configs found; falling back on auto-configuration\n",
      "creating tmp directory /var/folders/f8/70g84lyd3n387wjwhbfq4dp80000gn/T/process_places.bshur.20160618.081426.786136\n",
      "writing to /var/folders/f8/70g84lyd3n387wjwhbfq4dp80000gn/T/process_places.bshur.20160618.081426.786136/step-0-mapper_part-00000\n",
      "Counters from step 1:\n",
      "  (no counters found)\n",
      "writing to /var/folders/f8/70g84lyd3n387wjwhbfq4dp80000gn/T/process_places.bshur.20160618.081426.786136/step-0-mapper-sorted\n",
      "> sort /var/folders/f8/70g84lyd3n387wjwhbfq4dp80000gn/T/process_places.bshur.20160618.081426.786136/step-0-mapper_part-00000\n",
      "writing to /var/folders/f8/70g84lyd3n387wjwhbfq4dp80000gn/T/process_places.bshur.20160618.081426.786136/step-0-reducer_part-00000\n",
      "Counters from step 1:\n",
      "  (no counters found)\n",
      "Moving /var/folders/f8/70g84lyd3n387wjwhbfq4dp80000gn/T/process_places.bshur.20160618.081426.786136/step-0-reducer_part-00000 -> /var/folders/f8/70g84lyd3n387wjwhbfq4dp80000gn/T/process_places.bshur.20160618.081426.786136/output/part-00000\n",
      "Streaming final output from /var/folders/f8/70g84lyd3n387wjwhbfq4dp80000gn/T/process_places.bshur.20160618.081426.786136/output\n",
      "removing tmp directory /var/folders/f8/70g84lyd3n387wjwhbfq4dp80000gn/T/process_places.bshur.20160618.081426.786136\n"
     ]
    }
   ],
   "source": [
    "!python process_places.py \\\n",
    "--strict-protocols \\\n",
    "Data/train.csv.gz \\\n",
    "> Data/processed_places.txt"
   ]
  },
  {
   "cell_type": "code",
   "execution_count": 119,
   "metadata": {
    "collapsed": false
   },
   "outputs": [
    {
     "name": "stdout",
     "output_type": "stream",
     "text": [
      "null\t\"1000015801|2.6915|5.5492|0.1464|0.0112|16|3.74|82.1417|156|[0.002306, 0.000384]|{0: 3, 1: 1, 11: 2, 13: 15, 14: 12, 15: 7, 16: 3, 17: 4, 18: 3, 19: 2, 20: 2, 21: 3, 22: 8, 23: 13}\"\r\n",
      "null\t\"1000017288|7.1079|4.347|0.2382|0.0072|12|2.83|41.1274|190|[0.007823, 0.000173]|{0: 1, 1: 2, 3: 1, 4: 1, 5: 1, 6: 1, 7: 2, 8: 4, 9: 3, 10: 1, 11: 12, 12: 11, 13: 13, 14: 13, 15: 7, 16: 11, 17: 7, 20: 1, 22: 1, 23: 2}\"\r\n"
     ]
    }
   ],
   "source": [
    "!head -n2 Data/processed_places.txt"
   ]
  },
  {
   "cell_type": "markdown",
   "metadata": {},
   "source": [
    "#### process file"
   ]
  },
  {
   "cell_type": "code",
   "execution_count": 150,
   "metadata": {
    "collapsed": false
   },
   "outputs": [
    {
     "name": "stdout",
     "output_type": "stream",
     "text": [
      "Overwriting find_nearest_neighbors.py\n"
     ]
    }
   ],
   "source": [
    "%%writefile find_nearest_neighbors.py\n",
    "#!/usr/bin/env python\n",
    "from math import sqrt \n",
    "from sklearn.cluster import KMeans\n",
    "import pandas as pd\n",
    "import numpy as np\n",
    "import scipy as sp\n",
    "import os\n",
    "import logging\n",
    "import time\n",
    "from cStringIO import StringIO\n",
    "logging.basicConfig()\n",
    "\n",
    "\n",
    "PLACES_FILE = 'Data/processed_places.txt'\n",
    "TEST_FILE = 'Data/test.csv'\n",
    "OUTPUT_FILE = 'Data/submission.csv'\n",
    "\n",
    "\n",
    "def gather_places():\n",
    "    ''' Loop through places file \n",
    "        and store in memory\n",
    "    '''\n",
    "    places = []\n",
    "    with open(PLACES_FILE,'r') as r:\n",
    "        for line in r:\n",
    "            _, line = line.replace('\"','').split('\\t')\n",
    "            fields = line.split('|')\n",
    "            place_id = fields[0]\n",
    "            field_names = [\n",
    "                'center_x'\n",
    "                , 'center_y'\n",
    "                , 'sd_x'\n",
    "                , 'sd_y'\n",
    "                , 'mean_time'\n",
    "                , 'sd_time'\n",
    "                , 'sd_acc'\n",
    "                , 'n'\n",
    "            ]\n",
    "            fields_with_names = zip(field_names,fields[1:-2])\n",
    "            d = {k: float(v) for k,v in fields_with_names}\n",
    "            d['time_hours'] = eval(fields[-1])\n",
    "            d['unit_acc'] = eval(fields[-2])\n",
    "            d['place_id'] = place_id\n",
    "            places.append(d)\n",
    "    return places\n",
    "\n",
    "\n",
    "def build_kd_tree(places):\n",
    "    ''' Build a KD tree\n",
    "        for efficient NN search\n",
    "    '''\n",
    "    p_df = pd.DataFrame(places)\n",
    "    p_df['unit_acc_x'] = p_df['unit_acc'].apply(lambda x: x[0])\n",
    "    p_df['unit_acc_y'] = p_df['unit_acc'].apply(lambda x: x[1])\n",
    "    tree = sp.spatial.KDTree(p_df[['center_x','center_y']])\n",
    "    return p_df, tree\n",
    "\n",
    "\n",
    "def dumplines(p):\n",
    "    p.seek(0)\n",
    "    with open(OUTPUT_FILE,'a') as w:\n",
    "        w.writelines(p.readlines())\n",
    "    p.seek(0)\n",
    "    p.truncate()\n",
    "    return p\n",
    "\n",
    "\n",
    "def find_nearest_places(places, kd_tree):\n",
    "    ''' Process test data \n",
    "        \n",
    "        Measure euclidean distance to each point \n",
    "            in the places dict\n",
    "        \n",
    "        Estimate range based on accuracy\n",
    "        \n",
    "        Return row id and three nearest places\n",
    "    '''\n",
    "    num = lambda x: round(float(x),4)\n",
    "    ftime = lambda x: int(x)%(60*24)//60\n",
    "    adj_x = np.median(places['unit_acc_x'])\n",
    "    adj_y = np.median(places['unit_acc_y'])\n",
    "    b = 1000000\n",
    "\n",
    "    # remove submission file\n",
    "    if os.path.exists(OUTPUT_FILE):\n",
    "        os.remove(OUTPUT_FILE)\n",
    "    \n",
    "    # output header\n",
    "    with open(OUTPUT_FILE,'a') as w:\n",
    "        print >>w, 'row_id,place_id'\n",
    "    \n",
    "    # for each line in test file, make prediction\n",
    "    p = StringIO()\n",
    "    with open(TEST_FILE,'r') as r:\n",
    "        i = 0\n",
    "        for line in r:\n",
    "            # skip header\n",
    "            if i>0:\n",
    "                # read line from test file \n",
    "                fields = line.strip().split(',')\n",
    "                row_id = fields[0]\n",
    "                x = num(fields[1])\n",
    "                y = num(fields[2])\n",
    "                accuracy = num(fields[3])\n",
    "                time = ftime(fields[4])\n",
    "                \n",
    "                # query nearest neighbor\n",
    "                d,l = kd_tree.query([x, y],3)\n",
    "                place_ids = places.iloc[l]['place_id']\n",
    "                p.write(row_id+','+' '.join(place_ids)+'\\n')\n",
    "                \n",
    "                # write to disk in blocks \n",
    "                if i%b==0:\n",
    "                    logging.warn('writing lines #{}'.format(i))\n",
    "                    p = dumplines(p)\n",
    "            i += 1\n",
    "    \n",
    "    # dump remaining lines\n",
    "    logging.warn('writing lines #{}'.format(i))\n",
    "    p = dumplines(p)\n",
    "            \n",
    "def main():\n",
    "    st = time.time()\n",
    "    \n",
    "    logging.warn('Gather places')\n",
    "    places = gather_places()\n",
    "    \n",
    "    logging.warn('Create KD tree')\n",
    "    p_df, kd = build_kd_tree(places)\n",
    "    \n",
    "    logging.warn('Find nearest place for test data')\n",
    "    find_nearest_places(p_df, kd)\n",
    "    ed = time.time()\n",
    "    \n",
    "    logging.warn('Runtime: {} hours'.format(round((ed-st)*1.0/3600),2))\n",
    "\n",
    "if __name__ == '__main__':\n",
    "    main()"
   ]
  },
  {
   "cell_type": "code",
   "execution_count": 151,
   "metadata": {
    "collapsed": false
   },
   "outputs": [
    {
     "name": "stdout",
     "output_type": "stream",
     "text": [
      "WARNING:root:Gather places\n",
      "WARNING:root:Create KD tree\n",
      "WARNING:root:Find nearest place for test data\n",
      "WARNING:root:writing lines #1000000\n",
      "WARNING:root:writing lines #2000000\n",
      "WARNING:root:writing lines #3000000\n",
      "WARNING:root:writing lines #4000000\n",
      "WARNING:root:writing lines #5000000\n",
      "WARNING:root:writing lines #6000000\n",
      "WARNING:root:writing lines #7000000\n",
      "WARNING:root:writing lines #8000000\n",
      "WARNING:root:writing lines #8607231\n",
      "WARNING:root:Runtime: 1.0 hours\n"
     ]
    }
   ],
   "source": [
    "!python find_nearest_neighbors.py"
   ]
  },
  {
   "cell_type": "markdown",
   "metadata": {},
   "source": [
    "### Version 2"
   ]
  },
  {
   "cell_type": "code",
   "execution_count": 12,
   "metadata": {
    "collapsed": false
   },
   "outputs": [
    {
     "name": "stdout",
     "output_type": "stream",
     "text": [
      "Overwriting grid_rf.py\n"
     ]
    }
   ],
   "source": [
    "%%writefile grid_rf.py\n",
    "#!/usr/bin/env python\n",
    "import pandas as pd\n",
    "import scipy as sp\n",
    "import numpy as np\n",
    "from sklearn.ensemble import RandomForestClassifier\n",
    "from scipy.spatial import KDTree\n",
    "from cStringIO import StringIO\n",
    "import logging\n",
    "import time, os\n",
    "from hashlib import md5\n",
    "import pickle\n",
    "logging.basicConfig()\n",
    "\n",
    "\n",
    "TRAIN_FILE = 'Data/train.csv'\n",
    "TEST_FILE = 'Data/test.csv'\n",
    "OUTPUT_FILE = 'Data/submission.csv'\n",
    "PLACES_FILE = 'Data/processed_places.txt'\n",
    "PREFIX_FOLDER = 'SD_Data/'\n",
    "\n",
    "hashstr = lambda x: md5(x).hexdigest()\n",
    "\n",
    "\n",
    "def gather_places():\n",
    "    ''' Loop through places file \n",
    "        and store in memory\n",
    "    '''\n",
    "    places = []\n",
    "    with open(PLACES_FILE,'r') as r:\n",
    "        for line in r:\n",
    "            _, line = line.replace('\"','').split('\\t')\n",
    "            fields = line.split('|')\n",
    "            place_id = fields[0]\n",
    "            field_names = [\n",
    "                'center_x'\n",
    "                , 'center_y'\n",
    "                , 'sd_x'\n",
    "                , 'sd_y'\n",
    "                , 'mean_time'\n",
    "                , 'sd_time'\n",
    "                , 'sd_acc'\n",
    "                , 'n'\n",
    "            ]\n",
    "            fields_with_names = zip(field_names,fields[1:-2])\n",
    "            d = {k: float(v) for k,v in fields_with_names}\n",
    "            d['time_hours'] = eval(fields[-1])\n",
    "            d['unit_acc'] = eval(fields[-2])\n",
    "            d['place_id'] = place_id\n",
    "            places.append(d)\n",
    "    p_df = pd.DataFrame(places)\n",
    "    p_df.index = p_df['place_id']\n",
    "    return p_df\n",
    "\n",
    "\n",
    "def assign_grid(x,y):\n",
    "    def round_to(n, precision):\n",
    "        correction = 0.5 if n >= 0 else -0.5\n",
    "        return int( n/precision+correction ) * precision\n",
    "    grid_x = round_to(x, 0.5)\n",
    "    grid_y = round_to(y, 0.5)\n",
    "    return grid_x, grid_y\n",
    "\n",
    "\n",
    "def read_line(line, train=True):\n",
    "    fields = line.strip().split(',')\n",
    "    if train:\n",
    "        place_id = fields[-1]\n",
    "    row_id = fields[0]\n",
    "    x = float(fields[1])\n",
    "    y = float(fields[2])\n",
    "    grid_x, grid_y = assign_grid(x,y)\n",
    "    accuracy = int(fields[3])\n",
    "    time = int(fields[4])\n",
    "    time_hr = (int(time) / 60) % 24\n",
    "    time_segment = time_hr // 3\n",
    "    time_month = (int(time) / (60*24*30)) % 12\n",
    "    time_year = int(time) / (60*24*365)\n",
    "    time_day = int(time) / (60*24) % 365\n",
    "    time_weekday = (int(time) / (60*24)) % 7\n",
    "    out = {\n",
    "        'row_id':row_id ,\n",
    "        'x':x ,\n",
    "        'y':y ,\n",
    "        'grid_x':grid_x ,\n",
    "        'grid_y':grid_y ,\n",
    "        'accuracy':accuracy ,\n",
    "        'time':time ,\n",
    "        'time_hr':time_hr ,\n",
    "        'time_segment':time_segment ,\n",
    "        'time_month':time_month ,\n",
    "        'time_year':time_year ,\n",
    "        'time_day':time_day ,\n",
    "        'time_weekday':time_weekday ,\n",
    "    }\n",
    "    if train:\n",
    "        out['place_id'] = place_id\n",
    "    return out\n",
    "\n",
    "\n",
    "def train_grids():\n",
    "    grids = {}\n",
    "    placeids = {}\n",
    "    i = 0\n",
    "    logging.warn('Read training data into grids')\n",
    "    with open(TRAIN_FILE,'r') as r:\n",
    "        for line in r:\n",
    "            if i>0:\n",
    "                fields = read_line(line)\n",
    "                g_x, g_y = fields['grid_x'],fields['grid_y']\n",
    "                if (g_x, g_y) not in grids:\n",
    "                    grids[g_x, g_y] = []\n",
    "                grids[g_x, g_y].append([fields['x']\n",
    "                                        ,fields['y']\n",
    "                                        ,fields['accuracy']\n",
    "                                        ,fields['time_hr']\n",
    "                                        ,fields['time_segment']\n",
    "                                        ,fields['time_day']\n",
    "                                        ,fields['time_weekday']\n",
    "                                        ,fields['time_month']\n",
    "                                        ,fields['time_year']\n",
    "                                        ,fields['place_id']])\n",
    "                if (g_x, g_y) not in placeids:\n",
    "                    placeids[(g_x, g_y)] = set()\n",
    "                placeids[(g_x, g_y)].add(fields['place_id'])\n",
    "            i += 1\n",
    "    return grids, placeids\n",
    "\n",
    "\n",
    "def save_model(k, model, placeids, prefix=PREFIX_FOLDER):\n",
    "    ''' Output model to a file\n",
    "    '''\n",
    "    p = prefix+hashstr(str(k))+'.dat'\n",
    "    if os.path.exists(p):\n",
    "        os.remove(p)\n",
    "    with open(p, 'w') as w:\n",
    "        pickle.dump((model, placeids), w)\n",
    "\n",
    "\n",
    "def read_model(k, prefix=PREFIX_FOLDER):\n",
    "    ''' Read from a model file\n",
    "    '''\n",
    "    p = prefix+hashstr(str(k))+'.dat'\n",
    "    with open(p, 'r') as r:\n",
    "        model, placeids = pickle.load(r)\n",
    "    return model, placeids\n",
    "    \n",
    "\n",
    "def train_models(grids, placeids):\n",
    "    logging.warn('Training grid RF models')\n",
    "    for k in grids:\n",
    "        f = ['x'\n",
    "             ,'y'\n",
    "             ,'accuracy'\n",
    "             ,'time_hr'\n",
    "             ,'time_seg'\n",
    "             ,'time_day'\n",
    "             ,'time_weekday'\n",
    "             ,'time_month'\n",
    "             ,'time_year']\n",
    "        df = pd.DataFrame(grids[k], columns=f+['place_id'])\n",
    "        Y = df['place_id']\n",
    "        X = df[f]\n",
    "        rfc = RandomForestClassifier(100, max_depth=4, n_jobs=4)\n",
    "        rfc.fit(X, Y)\n",
    "        save_model(k, rfc, sorted(placeids[k]))\n",
    "\n",
    "\n",
    "def dumplines(p):\n",
    "    p.seek(0)\n",
    "    with open(OUTPUT_FILE,'a') as w:\n",
    "        w.writelines(p.readlines())\n",
    "    p.seek(0)\n",
    "    p.truncate()\n",
    "    return p\n",
    "\n",
    "\n",
    "def test_grids():\n",
    "    i = 0\n",
    "    grids = {}\n",
    "    \n",
    "    # read data into grids \n",
    "    with open(TEST_FILE,'r') as r:\n",
    "        for line in r:\n",
    "            if i>0:\n",
    "                # read test line \n",
    "                preds = []\n",
    "                fields = read_line(line, False)\n",
    "                g_x, g_y = fields['grid_x'], fields['grid_y']\n",
    "                if (g_x, g_y) not in grids:\n",
    "                    grids[g_x, g_y] = []\n",
    "                grids[g_x, g_y].append([fields['row_id']\n",
    "                                        ,fields['x']\n",
    "                                        ,fields['y']\n",
    "                                        ,fields['accuracy']\n",
    "                                        ,fields['time_hr']\n",
    "                                        ,fields['time_segment']\n",
    "                                        ,fields['time_day']\n",
    "                                        ,fields['time_weekday']\n",
    "                                        ,fields['time_month']\n",
    "                                        ,fields['time_year']])\n",
    "            i+=1\n",
    "    return grids\n",
    "\n",
    "\n",
    "def test():\n",
    "    ''' Get prediction for each \n",
    "        row in test data and \n",
    "        output to submission file\n",
    "    '''\n",
    "    # remove submission file\n",
    "    if os.path.exists(OUTPUT_FILE):\n",
    "        os.remove(OUTPUT_FILE)\n",
    "    \n",
    "    # output header\n",
    "    with open(OUTPUT_FILE,'a') as w:\n",
    "        print >>w, 'row_id,place_id'\n",
    "    \n",
    "    grids = test_grids()\n",
    "    for k in grids:\n",
    "        p = process_grid(k, grids[k])\n",
    "        _ = dumplines(p)\n",
    "\n",
    "\n",
    "def process_grid(k, grid, prefix=PREFIX_FOLDER):\n",
    "    ''' Gather predictions\n",
    "        for surrounding grid, \n",
    "        output file-like object\n",
    "    '''\n",
    "    p = StringIO()\n",
    "    g_x, g_y = k\n",
    "    \n",
    "    # gather points\n",
    "    f = ['x'\n",
    "         ,'y'\n",
    "         ,'accuracy'\n",
    "         ,'time_hr'\n",
    "         ,'time_seg'\n",
    "         ,'time_day'\n",
    "         ,'time_weekday'\n",
    "         ,'time_month'\n",
    "         ,'time_year']\n",
    "    points = pd.DataFrame(grid, columns=['row_id']+f)\n",
    "    del grid\n",
    "    \n",
    "    Xt = points[f]\n",
    "    model, places = read_model((g_x, g_y), prefix)\n",
    "    probs = model.predict_proba(Xt)\n",
    "\n",
    "    # sort predictions \n",
    "    s = np.argsort(probs)[:,::-1][:,:3]\n",
    "    pr = np.sort(probs)[:,::-1][:,:3]\n",
    "    places = np.array(places)[s]\n",
    "    del probs\n",
    "    \n",
    "    # print to file object \n",
    "    for i in xrange(places.shape[0]):\n",
    "        _p = places[i]\n",
    "        out = []\n",
    "        for _pp in _p:\n",
    "            if _pp not in out:\n",
    "                out.append(str(_pp))\n",
    "        _r = points['row_id'].iloc[i]\n",
    "        p.write(_r+','+' '.join(out[:3])+'\\n')\n",
    "    return p\n",
    "\n",
    "\n",
    "def main():\n",
    "    st = time.time()\n",
    "    \n",
    "    logging.warn('Train RF models')\n",
    "    grids, placeids = train_grids()\n",
    "    placeids = train_models(grids, placeids)\n",
    "    del grids; del placeids\n",
    "    \n",
    "    logging.warn('Predict test data')\n",
    "    test()\n",
    "    \n",
    "    ed = time.time()\n",
    "    logging.warn('Runtime: {} hours'.format(round((ed-st)/3600),2))\n",
    "\n",
    "\n",
    "if __name__ == '__main__':\n",
    "    main()"
   ]
  },
  {
   "cell_type": "code",
   "execution_count": null,
   "metadata": {
    "collapsed": true
   },
   "outputs": [],
   "source": []
  }
 ],
 "metadata": {
  "kernelspec": {
   "display_name": "Python 2",
   "language": "python",
   "name": "python2"
  },
  "language_info": {
   "codemirror_mode": {
    "name": "ipython",
    "version": 2
   },
   "file_extension": ".py",
   "mimetype": "text/x-python",
   "name": "python",
   "nbconvert_exporter": "python",
   "pygments_lexer": "ipython2",
   "version": "2.7.10"
  }
 },
 "nbformat": 4,
 "nbformat_minor": 0
}
