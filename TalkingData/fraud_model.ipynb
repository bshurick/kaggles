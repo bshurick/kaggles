{
 "cells": [
  {
   "cell_type": "code",
   "execution_count": 1,
   "metadata": {},
   "outputs": [],
   "source": [
    "import pandas as pd\n",
    "import numpy as np\n",
    "import scipy as sp\n",
    "\n",
    "from sklearn.linear_model import SGDClassifier\n",
    "\n",
    "from collections import namedtuple\n",
    "import datetime as DT\n",
    "\n",
    "import matplotlib.pyplot as plt\n",
    "import seaborn as sns\n",
    "%matplotlib inline\n",
    "\n",
    "%load_ext Cython"
   ]
  },
  {
   "cell_type": "code",
   "execution_count": 2,
   "metadata": {},
   "outputs": [],
   "source": [
    "Raw = namedtuple('raw',['train','test'])\n",
    "raw = Raw(\n",
    "    train=pd.read_csv('./train.csv.zip',compression='infer'),\n",
    "    test=pd.read_csv('./test.csv.zip',compression='infer'),\n",
    ")"
   ]
  },
  {
   "cell_type": "raw",
   "metadata": {},
   "source": [
    "# show a description of features \n",
    "descriptions = []\n",
    "for c in raw.test.columns:\n",
    "    if c!='click_id':\n",
    "        r = {}\n",
    "        r['col'] = c\n",
    "        r['unique'] = np.unique(raw.train[c]).shape[0]\n",
    "        v = raw.train[c].value_counts()\n",
    "        r['mode'] = v.index[0] \n",
    "        r['mode_cnt'] = v.iloc[0]\n",
    "        descriptions.append(r)\n",
    "\n",
    "pd.DataFrame(descriptions)"
   ]
  },
  {
   "cell_type": "raw",
   "metadata": {},
   "source": [
    "raw.train['h_hour'] = pd.to_datetime(raw.train.click_time).dt.strftime('%H')\n",
    "raw.test['h_hour'] = pd.to_datetime(raw.test.click_time).dt.strftime('%H')"
   ]
  },
  {
   "cell_type": "markdown",
   "metadata": {},
   "source": [
    "## Initial model"
   ]
  },
  {
   "cell_type": "code",
   "execution_count": 3,
   "metadata": {},
   "outputs": [],
   "source": [
    "%%cython\n",
    "import numpy as np\n",
    "import scipy as sp\n",
    "\n",
    "\n",
    "cdef tuple COL_EXCLUDES = (\n",
    "    'click_id',\n",
    "    'click_time',\n",
    "    'year_mo_dt',\n",
    "    'attributed_time', \n",
    "    'is_attributed',\n",
    ")\n",
    "\n",
    "\n",
    "def build_flookup(dict coldict):\n",
    "    ''' Build a feature lookup\n",
    "    '''\n",
    "    cdef dict uniques = {}, flookup = {}\n",
    "    cdef int i = 0\n",
    "    cdef str ch, c\n",
    "    cdef list cols = [ c for c in coldict \n",
    "                        if c not in COL_EXCLUDES ]\n",
    "\n",
    "    for c in cols:\n",
    "        # get all unique values\n",
    "        uniques[c] = np.unique(coldict[c])\n",
    "\n",
    "        # feature identifier\n",
    "        ch = c[0]\n",
    "        for u in uniques[c]:\n",
    "            flookup[ch+str(u)] = i\n",
    "            i += 1\n",
    "    \n",
    "    flookup['null'] = i\n",
    "    return flookup\n",
    "\n",
    "\n",
    "def build_sparse_matrix(dict coldict, dict flookup, int total_uniques):\n",
    "    ''' Take the data and feature lookup \n",
    "        and build a sparse matrix\n",
    "    '''\n",
    "    # set up vars \n",
    "    cdef str ch, fl, c, val\n",
    "    cdef int i, cnum\n",
    "    \n",
    "    # get length counts\n",
    "    cdef list cols = coldict.keys()\n",
    "    cdef int N = coldict[cols[0]].shape[0]\n",
    "    cdef int M = len(cols)\n",
    "    cdef int smLength = N*M\n",
    "    \n",
    "    # create empty arrays\n",
    "    cdef double[:] row = np.zeros(smLength)\n",
    "    cdef double[:] col = np.zeros(smLength)\n",
    "    cdef double[:] data = np.zeros(smLength)\n",
    "    \n",
    "    # loop through data\n",
    "    for i in range(N):\n",
    "        \n",
    "        # for each column \n",
    "        for cnum in range(M):\n",
    "            \n",
    "            # assign row \n",
    "            row[i+cnum] = i\n",
    "            \n",
    "            # assign feature \n",
    "            c = cols[cnum]\n",
    "            ch = c[0]\n",
    "            val = str(coldict[c][i])\n",
    "            fl = ch + val\n",
    "            if fl in flookup:\n",
    "                col[i+cnum] = flookup[fl]\n",
    "            else:\n",
    "                col[i+cnum] = flookup['null']\n",
    "            \n",
    "            # flag with 1\n",
    "            data[i+cnum] = 1\n",
    "    \n",
    "    sm = sp.sparse.csr_matrix((data, (row, col)), shape=(N, total_uniques))\n",
    "    return sm"
   ]
  },
  {
   "cell_type": "code",
   "execution_count": 4,
   "metadata": {},
   "outputs": [],
   "source": [
    "COL_EXCLUDES = (\n",
    "    'click_id',\n",
    "    'click_time',\n",
    "    'year_mo_dt',\n",
    "    'attributed_time', \n",
    "    'is_attributed',\n",
    ")\n",
    "coldict = {}\n",
    "\n",
    "for cname, c in raw.train.iteritems():\n",
    "    if cname not in COL_EXCLUDES:\n",
    "        coldict[cname] = c.values\n",
    "    \n",
    "flookup = build_flookup(coldict)\n",
    "totals = len(flookup.keys())"
   ]
  },
  {
   "cell_type": "code",
   "execution_count": 5,
   "metadata": {},
   "outputs": [
    {
     "name": "stdout",
     "output_type": "stream",
     "text": [
      "Total raw unique values (features): 282580\n"
     ]
    }
   ],
   "source": [
    "print('Total raw unique values (features): {}'.format(totals))"
   ]
  },
  {
   "cell_type": "code",
   "execution_count": 6,
   "metadata": {},
   "outputs": [],
   "source": [
    "sm = build_sparse_matrix(coldict, flookup, totals)"
   ]
  },
  {
   "cell_type": "code",
   "execution_count": 7,
   "metadata": {
    "collapsed": true
   },
   "outputs": [],
   "source": [
    "y = raw.train.is_attributed.values\n",
    "X = sm[:, :-1]"
   ]
  },
  {
   "cell_type": "code",
   "execution_count": 8,
   "metadata": {},
   "outputs": [
    {
     "name": "stdout",
     "output_type": "stream",
     "text": [
      "(184903890, 282579)\n"
     ]
    }
   ],
   "source": [
    "print X.shape"
   ]
  },
  {
   "cell_type": "code",
   "execution_count": null,
   "metadata": {},
   "outputs": [],
   "source": [
    "lr = SGDClassifier(\n",
    "    loss='log',\n",
    "    n_jobs=-1,\n",
    "    learning_rate='optimal',\n",
    "    penalty='elasticnet',\n",
    "    max_iter=5000,\n",
    "    tol=1e-5,\n",
    "    # alpha = 0.001,\n",
    ")\n",
    "lr.fit(X, y)"
   ]
  },
  {
   "cell_type": "code",
   "execution_count": null,
   "metadata": {
    "collapsed": true
   },
   "outputs": [],
   "source": [
    "lr.n_iter_"
   ]
  },
  {
   "cell_type": "code",
   "execution_count": null,
   "metadata": {
    "collapsed": true
   },
   "outputs": [],
   "source": [
    "test_coldict = {}\n",
    "for cname, c in raw.test.iteritems():\n",
    "    if cname not in COL_EXCLUDES:\n",
    "        test_coldict[cname] = c.values\n",
    "        \n",
    "sm = build_sparse_matrix(test_coldict, flookup, totals)\n",
    "X_tst = sm[:, :-1]"
   ]
  },
  {
   "cell_type": "code",
   "execution_count": null,
   "metadata": {
    "collapsed": true
   },
   "outputs": [],
   "source": [
    "predictions = lr.predict_proba(X_tst)"
   ]
  },
  {
   "cell_type": "code",
   "execution_count": null,
   "metadata": {},
   "outputs": [],
   "source": [
    "output = pd.DataFrame(np.vstack((raw.test.click_id, predictions[:, 1])).T,columns=['click_id','is_attributed'])"
   ]
  },
  {
   "cell_type": "code",
   "execution_count": null,
   "metadata": {},
   "outputs": [],
   "source": [
    "output.to_csv('./submission.csv', header=True, index=False)"
   ]
  },
  {
   "cell_type": "code",
   "execution_count": null,
   "metadata": {},
   "outputs": [],
   "source": [
    "output.shape"
   ]
  },
  {
   "cell_type": "code",
   "execution_count": null,
   "metadata": {
    "collapsed": true
   },
   "outputs": [],
   "source": []
  }
 ],
 "metadata": {
  "kernelspec": {
   "display_name": "Python 3",
   "language": "python",
   "name": "python3"
  },
  "language_info": {
   "codemirror_mode": {
    "name": "ipython",
    "version": 2
   },
   "file_extension": ".py",
   "mimetype": "text/x-python",
   "name": "python",
   "nbconvert_exporter": "python",
   "pygments_lexer": "ipython2",
   "version": "2.7.12"
  }
 },
 "nbformat": 4,
 "nbformat_minor": 2
}
