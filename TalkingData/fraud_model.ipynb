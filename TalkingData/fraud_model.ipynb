{
 "cells": [
  {
   "cell_type": "code",
   "execution_count": 1,
   "metadata": {
    "collapsed": true
   },
   "outputs": [],
   "source": [
    "import pandas as pd\n",
    "import numpy as np\n",
    "import scipy as sp\n",
    "\n",
    "from sklearn.linear_model import SGDClassifier\n",
    "from sklearn.model_selection import train_test_split\n",
    "from sklearn.metrics import roc_auc_score\n",
    "from sklearn.feature_extraction import FeatureHasher\n",
    "\n",
    "from collections import namedtuple\n",
    "import datetime as DT\n",
    "\n",
    "import matplotlib.pyplot as plt\n",
    "import seaborn as sns\n",
    "%matplotlib inline\n",
    "\n",
    "%load_ext Cython"
   ]
  },
  {
   "cell_type": "code",
   "execution_count": 2,
   "metadata": {},
   "outputs": [],
   "source": [
    "Raw = namedtuple('raw',['train','test'])\n",
    "raw = Raw(\n",
    "    train=pd.read_csv('./train.csv.zip',compression='infer'),\n",
    "    test=pd.read_csv('./test.csv.zip',compression='infer'),\n",
    ")"
   ]
  },
  {
   "cell_type": "code",
   "execution_count": 3,
   "metadata": {},
   "outputs": [
    {
     "data": {
      "text/html": [
       "<div>\n",
       "<style>\n",
       "    .dataframe thead tr:only-child th {\n",
       "        text-align: right;\n",
       "    }\n",
       "\n",
       "    .dataframe thead th {\n",
       "        text-align: left;\n",
       "    }\n",
       "\n",
       "    .dataframe tbody tr th {\n",
       "        vertical-align: top;\n",
       "    }\n",
       "</style>\n",
       "<table border=\"1\" class=\"dataframe\">\n",
       "  <thead>\n",
       "    <tr style=\"text-align: right;\">\n",
       "      <th></th>\n",
       "      <th>col</th>\n",
       "      <th>mode</th>\n",
       "      <th>mode_cnt</th>\n",
       "      <th>second_mode_cnt</th>\n",
       "      <th>unique</th>\n",
       "    </tr>\n",
       "  </thead>\n",
       "  <tbody>\n",
       "    <tr>\n",
       "      <th>0</th>\n",
       "      <td>ip</td>\n",
       "      <td>5348</td>\n",
       "      <td>1238734</td>\n",
       "      <td>1171448</td>\n",
       "      <td>277396</td>\n",
       "    </tr>\n",
       "    <tr>\n",
       "      <th>1</th>\n",
       "      <td>app</td>\n",
       "      <td>3</td>\n",
       "      <td>33911780</td>\n",
       "      <td>24179003</td>\n",
       "      <td>706</td>\n",
       "    </tr>\n",
       "    <tr>\n",
       "      <th>2</th>\n",
       "      <td>device</td>\n",
       "      <td>1</td>\n",
       "      <td>174330052</td>\n",
       "      <td>8105054</td>\n",
       "      <td>3475</td>\n",
       "    </tr>\n",
       "    <tr>\n",
       "      <th>3</th>\n",
       "      <td>os</td>\n",
       "      <td>19</td>\n",
       "      <td>44181914</td>\n",
       "      <td>39782808</td>\n",
       "      <td>800</td>\n",
       "    </tr>\n",
       "    <tr>\n",
       "      <th>4</th>\n",
       "      <td>channel</td>\n",
       "      <td>280</td>\n",
       "      <td>15065927</td>\n",
       "      <td>8873025</td>\n",
       "      <td>202</td>\n",
       "    </tr>\n",
       "    <tr>\n",
       "      <th>5</th>\n",
       "      <td>click_time</td>\n",
       "      <td>2017-11-07 14:00:11</td>\n",
       "      <td>1502</td>\n",
       "      <td>1497</td>\n",
       "      <td>259620</td>\n",
       "    </tr>\n",
       "  </tbody>\n",
       "</table>\n",
       "</div>"
      ],
      "text/plain": [
       "          col                 mode   mode_cnt  second_mode_cnt  unique\n",
       "0          ip                 5348    1238734          1171448  277396\n",
       "1         app                    3   33911780         24179003     706\n",
       "2      device                    1  174330052          8105054    3475\n",
       "3          os                   19   44181914         39782808     800\n",
       "4     channel                  280   15065927          8873025     202\n",
       "5  click_time  2017-11-07 14:00:11       1502             1497  259620"
      ]
     },
     "execution_count": 3,
     "metadata": {},
     "output_type": "execute_result"
    }
   ],
   "source": [
    "# show a description of features \n",
    "descriptions = []\n",
    "for c in raw.test.columns:\n",
    "    if c!='click_id':\n",
    "        r = {}\n",
    "        r['col'] = c\n",
    "        r['unique'] = np.unique(raw.train[c]).shape[0]\n",
    "        v = raw.train[c].value_counts()\n",
    "        r['mode'] = v.index[0] \n",
    "        r['mode_cnt'] = v.iloc[0]\n",
    "        r['second_mode_cnt'] = v.iloc[1]\n",
    "        descriptions.append(r)\n",
    "\n",
    "pd.DataFrame(descriptions)"
   ]
  },
  {
   "cell_type": "code",
   "execution_count": 4,
   "metadata": {},
   "outputs": [
    {
     "data": {
      "text/html": [
       "<div>\n",
       "<style>\n",
       "    .dataframe thead tr:only-child th {\n",
       "        text-align: right;\n",
       "    }\n",
       "\n",
       "    .dataframe thead th {\n",
       "        text-align: left;\n",
       "    }\n",
       "\n",
       "    .dataframe tbody tr th {\n",
       "        vertical-align: top;\n",
       "    }\n",
       "</style>\n",
       "<table border=\"1\" class=\"dataframe\">\n",
       "  <thead>\n",
       "    <tr style=\"text-align: right;\">\n",
       "      <th></th>\n",
       "      <th>ip</th>\n",
       "      <th>app</th>\n",
       "      <th>device</th>\n",
       "      <th>os</th>\n",
       "      <th>channel</th>\n",
       "      <th>click_time</th>\n",
       "      <th>attributed_time</th>\n",
       "      <th>is_attributed</th>\n",
       "    </tr>\n",
       "  </thead>\n",
       "  <tbody>\n",
       "    <tr>\n",
       "      <th>0</th>\n",
       "      <td>83230</td>\n",
       "      <td>3</td>\n",
       "      <td>1</td>\n",
       "      <td>13</td>\n",
       "      <td>379</td>\n",
       "      <td>2017-11-06 14:32:21</td>\n",
       "      <td>NaN</td>\n",
       "      <td>0</td>\n",
       "    </tr>\n",
       "    <tr>\n",
       "      <th>1</th>\n",
       "      <td>17357</td>\n",
       "      <td>3</td>\n",
       "      <td>1</td>\n",
       "      <td>19</td>\n",
       "      <td>379</td>\n",
       "      <td>2017-11-06 14:33:34</td>\n",
       "      <td>NaN</td>\n",
       "      <td>0</td>\n",
       "    </tr>\n",
       "    <tr>\n",
       "      <th>2</th>\n",
       "      <td>35810</td>\n",
       "      <td>3</td>\n",
       "      <td>1</td>\n",
       "      <td>13</td>\n",
       "      <td>379</td>\n",
       "      <td>2017-11-06 14:34:12</td>\n",
       "      <td>NaN</td>\n",
       "      <td>0</td>\n",
       "    </tr>\n",
       "    <tr>\n",
       "      <th>3</th>\n",
       "      <td>45745</td>\n",
       "      <td>14</td>\n",
       "      <td>1</td>\n",
       "      <td>13</td>\n",
       "      <td>478</td>\n",
       "      <td>2017-11-06 14:34:52</td>\n",
       "      <td>NaN</td>\n",
       "      <td>0</td>\n",
       "    </tr>\n",
       "    <tr>\n",
       "      <th>4</th>\n",
       "      <td>161007</td>\n",
       "      <td>3</td>\n",
       "      <td>1</td>\n",
       "      <td>13</td>\n",
       "      <td>379</td>\n",
       "      <td>2017-11-06 14:35:08</td>\n",
       "      <td>NaN</td>\n",
       "      <td>0</td>\n",
       "    </tr>\n",
       "  </tbody>\n",
       "</table>\n",
       "</div>"
      ],
      "text/plain": [
       "       ip  app  device  os  channel           click_time attributed_time  \\\n",
       "0   83230    3       1  13      379  2017-11-06 14:32:21             NaN   \n",
       "1   17357    3       1  19      379  2017-11-06 14:33:34             NaN   \n",
       "2   35810    3       1  13      379  2017-11-06 14:34:12             NaN   \n",
       "3   45745   14       1  13      478  2017-11-06 14:34:52             NaN   \n",
       "4  161007    3       1  13      379  2017-11-06 14:35:08             NaN   \n",
       "\n",
       "   is_attributed  \n",
       "0              0  \n",
       "1              0  \n",
       "2              0  \n",
       "3              0  \n",
       "4              0  "
      ]
     },
     "execution_count": 4,
     "metadata": {},
     "output_type": "execute_result"
    }
   ],
   "source": [
    "raw.train.head()"
   ]
  },
  {
   "cell_type": "raw",
   "metadata": {},
   "source": [
    "IP = user\n",
    "group by IP, i.e. clicks in last minute"
   ]
  },
  {
   "cell_type": "code",
   "execution_count": 5,
   "metadata": {
    "collapsed": true
   },
   "outputs": [],
   "source": [
    "raw.train['h_hour'] = pd.to_datetime(raw.train.click_time).dt.strftime('%H')\n",
    "raw.test['h_hour'] = pd.to_datetime(raw.test.click_time).dt.strftime('%H')"
   ]
  },
  {
   "cell_type": "markdown",
   "metadata": {},
   "source": [
    "## Processing"
   ]
  },
  {
   "cell_type": "code",
   "execution_count": 6,
   "metadata": {
    "collapsed": true
   },
   "outputs": [],
   "source": [
    "def minimize_column(c, i):\n",
    "    ''' Return series with minimized values\n",
    "        ----------\n",
    "        Args:\n",
    "            c(pd.Series) - column data\n",
    "            i(int) - number of values to check\n",
    "    '''\n",
    "    def getval(x, col_dict, i):\n",
    "        if x:\n",
    "            if col_dict[x]>i:\n",
    "                return x\n",
    "            else:\n",
    "                return -1\n",
    "        else:\n",
    "            return x\n",
    "\n",
    "    colvals = c.value_counts().reset_index(level=0)\n",
    "    colnames = colvals.columns\n",
    "    col_list = zip(colvals[colnames[0]].values, colvals[colnames[1]].values)\n",
    "    col_dict = { k:v for k,v in col_list }\n",
    "    new = c.apply(lambda x: getval(x, col_dict, i))\n",
    "    return new"
   ]
  },
  {
   "cell_type": "code",
   "execution_count": 19,
   "metadata": {},
   "outputs": [],
   "source": [
    "%%cython\n",
    "''' No longer used\n",
    "'''\n",
    "import numpy as np\n",
    "import scipy as sp\n",
    "import hashlib\n",
    "\n",
    "\n",
    "cdef tuple COL_EXCLUDES = (\n",
    "    'click_id',\n",
    "    'click_time',\n",
    "    'year_mo_dt',\n",
    "    'attributed_time', \n",
    "    'is_attributed',\n",
    ")\n",
    "\n",
    "\n",
    "def build_flookup(dict coldict):\n",
    "    ''' Build a feature lookup\n",
    "    '''\n",
    "    cdef dict uniques = {}, flookup = {}\n",
    "    cdef int i = 0\n",
    "    cdef str ch, c\n",
    "    cdef list cols = [ c for c in coldict \n",
    "                        if c not in COL_EXCLUDES ]\n",
    "\n",
    "    for c in cols:\n",
    "        # get all unique values\n",
    "        uniques[c] = np.unique(coldict[c])\n",
    "\n",
    "        # feature identifier\n",
    "        ch = c[0]\n",
    "        for u in uniques[c]:\n",
    "            flookup[ch+str(u)] = i\n",
    "            i += 1\n",
    "    \n",
    "    flookup['null'] = i\n",
    "    return flookup\n",
    "\n",
    "\n",
    "def build_sparse_matrix(dict coldict, dict flookup, int total_uniques):\n",
    "    ''' Take the data and feature lookup \n",
    "        and build a sparse matrix\n",
    "    '''\n",
    "    # set up vars \n",
    "    cdef str ch, fl, c, val\n",
    "    cdef int i, cnum\n",
    "    \n",
    "    # get length counts\n",
    "    cdef list cols = coldict.keys()\n",
    "    cdef int N = coldict[cols[0]].shape[0]\n",
    "    cdef int M = len(cols)\n",
    "    cdef int smLength = N*M\n",
    "    \n",
    "    # create empty arrays\n",
    "    cdef double[:] row = np.zeros(smLength)\n",
    "    cdef double[:] col = np.zeros(smLength)\n",
    "    cdef double[:] data = np.zeros(smLength)\n",
    "    \n",
    "    # loop through data\n",
    "    for i in range(N):\n",
    "        \n",
    "        # for each column \n",
    "        for cnum in range(M):\n",
    "            \n",
    "            # assign row \n",
    "            row[i+cnum] = i\n",
    "            \n",
    "            # assign feature \n",
    "            c = cols[cnum]\n",
    "            ch = c[0]\n",
    "            val = str(coldict[c][i])\n",
    "            fl = ch + val\n",
    "            if fl in flookup:\n",
    "                col[i+cnum] = flookup[fl]\n",
    "            else:\n",
    "                col[i+cnum] = flookup['null']\n",
    "            \n",
    "            # flag with 1\n",
    "            data[i+cnum] = 1\n",
    "    \n",
    "    sm = sp.sparse.csr_matrix((data, (row, col)), shape=(N, total_uniques))\n",
    "    return sm\n",
    "\n",
    "\n",
    "def build_flookup_hash(dict coldict, int N):\n",
    "    ''' Build a feature lookup with hashing\n",
    "    '''\n",
    "    cdef dict uniques = {}, flookup = {}\n",
    "    cdef int i = 0\n",
    "    cdef str ch, c\n",
    "    cdef list cols = [ c for c in coldict \n",
    "                        if c not in COL_EXCLUDES ]\n",
    "\n",
    "    for c in cols:\n",
    "        # get all unique values\n",
    "        uniques[c] = np.unique(coldict[c])\n",
    "\n",
    "        # feature identifier\n",
    "        ch = c[0]\n",
    "        for u in uniques[c]:\n",
    "            h = int(hashlib.md5(u).hexdigest(), 16)\n",
    "            flookup[ch+str(u)] = h % N\n",
    "            i += 1\n",
    "    \n",
    "    flookup['null'] = N+1\n",
    "    return flookup\n",
    "\n",
    "\n",
    "def build_matrix(dict coldict, dict flookup):\n",
    "    ''' Use feature lookup to build a matrix\n",
    "    '''\n",
    "    cdef list cols = coldict.keys()\n",
    "    cdef int N = coldict[cols[0]].shape[0]\n",
    "    cdef int n_features = len(set(flookup.values()))\n",
    "    cdef double[:,:] data = np.zeros((N, n_features))\n",
    "    cdef int i\n",
    "    cdef str c, fl\n",
    "    \n",
    "    # look through data\n",
    "    for i in range(N):\n",
    "        \n",
    "        # loop through columns \n",
    "        for c in cols:\n",
    "            \n",
    "            # find hashed column map\n",
    "            ch = c[0]\n",
    "            val = str(coldict[c][i])\n",
    "            fl = ch + val\n",
    "            \n",
    "            if fl in flookup:\n",
    "                col = flookup[fl]\n",
    "            else:\n",
    "                col = flookup['null']\n",
    "            \n",
    "            # increment value\n",
    "            data[i, col] += 1\n",
    "    \n",
    "    return data"
   ]
  },
  {
   "cell_type": "code",
   "execution_count": 10,
   "metadata": {},
   "outputs": [],
   "source": [
    "COL_EXCLUDES = (\n",
    "    'click_id',\n",
    "    'click_time',\n",
    "    'year_mo_dt',\n",
    "    'attributed_time', \n",
    "    'is_attributed',\n",
    ")\n",
    "coldict = {}\n",
    "\n",
    "for cname, c in raw.train.iteritems():\n",
    "    if cname not in COL_EXCLUDES:\n",
    "        coldict[cname] = c.values\n",
    "    \n",
    "flookup = build_flookup_hash(coldict, 100)\n",
    "totals = len(flookup.keys())"
   ]
  },
  {
   "cell_type": "code",
   "execution_count": null,
   "metadata": {
    "collapsed": true
   },
   "outputs": [],
   "source": [
    "m = build_matrix(coldict, flookup)"
   ]
  },
  {
   "cell_type": "code",
   "execution_count": null,
   "metadata": {
    "collapsed": true
   },
   "outputs": [],
   "source": []
  },
  {
   "cell_type": "raw",
   "metadata": {},
   "source": [
    "sm = build_sparse_matrix(coldict, flookup, totals)\n",
    "\n",
    "y = raw.train.is_attributed.values\n",
    "X = sm[:, :-1]\n",
    "\n",
    "test_coldict = {}\n",
    "for cname, c in raw.test.iteritems():\n",
    "    if cname not in COL_EXCLUDES:\n",
    "        test_coldict[cname] = c.values\n",
    "        \n",
    "val_sm = build_sparse_matrix(test_coldict, flookup, totals)\n",
    "X_val = val_sm[:, :-1]\n",
    "\n",
    "print X.shape"
   ]
  },
  {
   "cell_type": "code",
   "execution_count": null,
   "metadata": {},
   "outputs": [],
   "source": [
    "X_tr, X_tst, y_tr, y_tst = train_test_split(\n",
    "    X, y, test_size=0.33, random_state=22,\n",
    ")"
   ]
  },
  {
   "cell_type": "markdown",
   "metadata": {},
   "source": [
    "## XGB"
   ]
  },
  {
   "cell_type": "code",
   "execution_count": null,
   "metadata": {
    "collapsed": true
   },
   "outputs": [],
   "source": [
    "import xgboost as xgb"
   ]
  },
  {
   "cell_type": "code",
   "execution_count": null,
   "metadata": {
    "collapsed": true
   },
   "outputs": [],
   "source": [
    "dtrain = xgb.DMatrix(X_tr, label=y_tr)\n",
    "dtest = xgb.DMatrix(X_tst, label=y_tst)\n",
    "dval = xgb.DMatrix(X_val)\n",
    "\n",
    "scale_pos_tr = np.sum(y_tr.values==0) / np.sum(y_tr.values==1)"
   ]
  },
  {
   "cell_type": "code",
   "execution_count": null,
   "metadata": {
    "collapsed": true
   },
   "outputs": [],
   "source": [
    "params = {\n",
    "    'silent': 1,\n",
    "    'eval_metric': 'logloss',\n",
    "    'eta': 0.3,\n",
    "    'nthread': 16,\n",
    "    'min_child_weight': 1,\n",
    "    'colsample_bytree': 0.8,\n",
    "    'subsample': 0.8,\n",
    "    'seed': 2,\n",
    "    'objective': 'binary:logistic',\n",
    "    'alpha': 0.0,\n",
    "    'max_depth': 6,\n",
    "    'gamma': 0.0,\n",
    "    'booster': 'gbtree',\n",
    "    'scale_pos_weight': scale_pos_tr ,\n",
    "}"
   ]
  },
  {
   "cell_type": "code",
   "execution_count": null,
   "metadata": {},
   "outputs": [],
   "source": [
    "evallist  = [(dtrain,'train'), (dtest,'eval')]\n",
    "gbdt = xgb.train(\n",
    "    params,\n",
    "    dtrain,\n",
    "    200,\n",
    "    evallist,\n",
    "    early_stopping_rounds=10,\n",
    "    verbose_eval=5,\n",
    ")"
   ]
  },
  {
   "cell_type": "code",
   "execution_count": null,
   "metadata": {
    "collapsed": true
   },
   "outputs": [],
   "source": [
    "preds = gbdt.predict(dtest)"
   ]
  },
  {
   "cell_type": "code",
   "execution_count": null,
   "metadata": {},
   "outputs": [],
   "source": [
    "preds.shape"
   ]
  },
  {
   "cell_type": "code",
   "execution_count": null,
   "metadata": {},
   "outputs": [],
   "source": [
    "roc_auc_score(y_tst, preds)"
   ]
  },
  {
   "cell_type": "code",
   "execution_count": null,
   "metadata": {
    "collapsed": true
   },
   "outputs": [],
   "source": [
    "predictions = gbdt.predict(dval)\n",
    "output = pd.DataFrame(np.vstack((raw.test.click_id, predictions)).T,columns=['click_id','is_attributed'])\n",
    "output['click_id'] = output.click_id.astype(np.int32)"
   ]
  },
  {
   "cell_type": "code",
   "execution_count": null,
   "metadata": {
    "collapsed": true
   },
   "outputs": [],
   "source": [
    "output.to_csv('./submission6.csv', header=True, index=False)"
   ]
  },
  {
   "cell_type": "markdown",
   "metadata": {},
   "source": [
    "## Light GBM"
   ]
  },
  {
   "cell_type": "code",
   "execution_count": 13,
   "metadata": {
    "collapsed": true
   },
   "outputs": [],
   "source": [
    "import lightgbm as lgb"
   ]
  },
  {
   "cell_type": "code",
   "execution_count": 14,
   "metadata": {
    "collapsed": true
   },
   "outputs": [],
   "source": [
    "X_gbm_tr = lgb.Dataset(X_tr, y_tr)\n",
    "X_gbm_tst = lgb.Dataset(X_tst, y_tst)"
   ]
  },
  {
   "cell_type": "code",
   "execution_count": null,
   "metadata": {
    "collapsed": true
   },
   "outputs": [],
   "source": [
    "params = {\n",
    "    'objective': 'binary',\n",
    "    'boosting': 'gbdt',\n",
    "    'learning_rate': 0.05 ,\n",
    "    'num_leaves': 256,\n",
    "    'min_data_in_leaf': 1000,\n",
    "    'max_depth': -1,\n",
    "    'max_bin': 255,\n",
    "    'num_boost_round': 115,\n",
    "    'bagging_fraction': 0.8,\n",
    "    'feature_fraction': 0.8,\n",
    "    'bagging_seed': 1,\n",
    "    'feature_fraction_seed': 1,\n",
    "    'metric' : ['binary_logloss'],\n",
    "    'nthread': 16,\n",
    "}\n",
    "model = lgb.train(\n",
    "    params,\n",
    "    X_gbm_tr, \n",
    "    valid_sets=[X_gbm_tst], \n",
    "    early_stopping_rounds=50,\n",
    "    verbose_eval=5,\n",
    ")"
   ]
  },
  {
   "cell_type": "code",
   "execution_count": null,
   "metadata": {
    "collapsed": true
   },
   "outputs": [],
   "source": [
    "preds = model.predict(X_tst)\n",
    "roc_auc_score(y_tst, preds)"
   ]
  },
  {
   "cell_type": "code",
   "execution_count": 16,
   "metadata": {
    "collapsed": true
   },
   "outputs": [],
   "source": [
    "predictions = model.predict(X_val)\n",
    "output = pd.DataFrame(np.vstack((raw.test.click_id, predictions)).T,columns=['click_id','is_attributed'])\n",
    "output['click_id'] = output.click_id.astype(np.int32)"
   ]
  },
  {
   "cell_type": "code",
   "execution_count": null,
   "metadata": {
    "collapsed": true
   },
   "outputs": [],
   "source": [
    "output.to_csv('./submission4.csv', header=True, index=False)"
   ]
  },
  {
   "cell_type": "markdown",
   "metadata": {},
   "source": [
    "## Initial model"
   ]
  },
  {
   "cell_type": "code",
   "execution_count": null,
   "metadata": {
    "collapsed": true
   },
   "outputs": [],
   "source": [
    "lr = SGDClassifier(\n",
    "    loss='log',\n",
    "    n_jobs=-1,\n",
    "    learning_rate='optimal',\n",
    "    penalty='elasticnet',\n",
    "    max_iter=5000,\n",
    "    tol=1e-5,\n",
    "    alpha = 0.01,\n",
    ")\n",
    "lr.fit(X, y)"
   ]
  },
  {
   "cell_type": "code",
   "execution_count": null,
   "metadata": {
    "collapsed": true
   },
   "outputs": [],
   "source": [
    "lr.n_iter_"
   ]
  },
  {
   "cell_type": "code",
   "execution_count": null,
   "metadata": {
    "collapsed": true
   },
   "outputs": [],
   "source": [
    "test_coldict = {}\n",
    "for cname, c in raw.test.iteritems():\n",
    "    if cname not in COL_EXCLUDES:\n",
    "        test_coldict[cname] = c.values\n",
    "        \n",
    "sm = build_sparse_matrix(test_coldict, flookup, totals)\n",
    "X_tst = sm[:, :-1]"
   ]
  },
  {
   "cell_type": "code",
   "execution_count": null,
   "metadata": {
    "collapsed": true
   },
   "outputs": [],
   "source": [
    "predictions = lr.predict_proba(X_tst)"
   ]
  },
  {
   "cell_type": "code",
   "execution_count": null,
   "metadata": {
    "collapsed": true
   },
   "outputs": [],
   "source": [
    "output = pd.DataFrame(np.vstack((raw.test.click_id, predictions[:, 1])).T,columns=['click_id','is_attributed'])\n",
    "output['click_id'] = output.click_id.astype(np.int32)"
   ]
  },
  {
   "cell_type": "code",
   "execution_count": null,
   "metadata": {
    "collapsed": true
   },
   "outputs": [],
   "source": [
    "output.shape"
   ]
  },
  {
   "cell_type": "code",
   "execution_count": null,
   "metadata": {
    "collapsed": true
   },
   "outputs": [],
   "source": [
    "output.to_csv('./submission3.csv', header=True, index=False)"
   ]
  },
  {
   "cell_type": "code",
   "execution_count": null,
   "metadata": {
    "collapsed": true
   },
   "outputs": [],
   "source": [
    "output.head()"
   ]
  }
 ],
 "metadata": {
  "kernelspec": {
   "display_name": "Python 3",
   "language": "python",
   "name": "python3"
  },
  "language_info": {
   "codemirror_mode": {
    "name": "ipython",
    "version": 2
   },
   "file_extension": ".py",
   "mimetype": "text/x-python",
   "name": "python",
   "nbconvert_exporter": "python",
   "pygments_lexer": "ipython2",
   "version": "2.7.12"
  }
 },
 "nbformat": 4,
 "nbformat_minor": 2
}
