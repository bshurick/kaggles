{
 "cells": [
  {
   "cell_type": "markdown",
   "metadata": {},
   "source": [
    "## Regression of home prices"
   ]
  },
  {
   "cell_type": "markdown",
   "metadata": {},
   "source": [
    "#### Libraries"
   ]
  },
  {
   "cell_type": "code",
   "execution_count": 1,
   "metadata": {
    "collapsed": true
   },
   "outputs": [],
   "source": [
    "import pandas as pd\n",
    "import numpy as np\n",
    "import scipy as sp\n",
    "import xgboost as xgb\n",
    "\n",
    "from sklearn.preprocessing import LabelEncoder, OneHotEncoder, StandardScaler\n",
    "from sklearn.cross_validation import train_test_split\n",
    "\n",
    "from sklearn.decomposition import PCA"
   ]
  },
  {
   "cell_type": "markdown",
   "metadata": {},
   "source": [
    "#### Load data"
   ]
  },
  {
   "cell_type": "code",
   "execution_count": 2,
   "metadata": {
    "collapsed": true
   },
   "outputs": [],
   "source": [
    "DATADIR = './Data/'\n",
    "TRAIN_FILE = 'train.csv'\n",
    "TEST_FILE = 'test.csv'"
   ]
  },
  {
   "cell_type": "code",
   "execution_count": 3,
   "metadata": {
    "collapsed": false
   },
   "outputs": [],
   "source": [
    "train_raw = pd.read_csv(DATADIR+TRAIN_FILE)\n",
    "test_raw = pd.read_csv(DATADIR+TEST_FILE)"
   ]
  },
  {
   "cell_type": "code",
   "execution_count": 4,
   "metadata": {
    "collapsed": false
   },
   "outputs": [],
   "source": [
    "IDS = test_raw['Id']\n",
    "del test_raw['Id']\n",
    "del train_raw['Id']"
   ]
  },
  {
   "cell_type": "code",
   "execution_count": 5,
   "metadata": {
    "collapsed": true
   },
   "outputs": [],
   "source": [
    "Y = np.log(train_raw['SalePrice'].as_matrix())\n",
    "del train_raw['SalePrice']"
   ]
  },
  {
   "cell_type": "markdown",
   "metadata": {},
   "source": [
    "#### Create one-hot representation "
   ]
  },
  {
   "cell_type": "code",
   "execution_count": 6,
   "metadata": {
    "collapsed": false
   },
   "outputs": [
    {
     "name": "stderr",
     "output_type": "stream",
     "text": [
      "/usr/local/lib/python2.7/site-packages/numpy/lib/arraysetops.py:200: FutureWarning: numpy not_equal will not check object identity in the future. The comparison did not return the same result as suggested by the identity (`is`)) and will change.\n",
      "  flag = np.concatenate(([True], aux[1:] != aux[:-1]))\n",
      "/usr/local/lib/python2.7/site-packages/numpy/lib/arraysetops.py:259: FutureWarning: numpy equal will not check object identity in the future. The comparison did not return the same result as suggested by the identity (`is`)) and will change.\n",
      "  return aux[:-1][aux[1:] == aux[:-1]]\n"
     ]
    }
   ],
   "source": [
    "dtypes = train_raw.dtypes\n",
    "categoricals = []\n",
    "for i, f in enumerate(train_raw.columns):\n",
    "    if dtypes[f] == np.dtype('O'):\n",
    "        le = LabelEncoder()\n",
    "        concat = (train_raw[f],test_raw[f])\n",
    "        le.fit(np.hstack(concat))\n",
    "        train_raw[f] = le.transform(train_raw[f])\n",
    "        test_raw[f] = le.transform(test_raw[f])\n",
    "        categoricals.append(i)\n",
    "\n",
    "train_raw = train_raw.fillna(0)\n",
    "test_raw = test_raw.fillna(0)\n",
    "ohe = OneHotEncoder(categorical_features=categoricals)\n",
    "ohe.fit(np.vstack((train_raw,test_raw)))\n",
    "X = ohe.transform(train_raw)\n",
    "X_test = ohe.transform(test_raw)"
   ]
  },
  {
   "cell_type": "markdown",
   "metadata": {},
   "source": [
    "#### Scale data"
   ]
  },
  {
   "cell_type": "code",
   "execution_count": 7,
   "metadata": {
    "collapsed": false
   },
   "outputs": [],
   "source": [
    "ss = StandardScaler()\n",
    "X = ss.fit_transform(X.A)\n",
    "X_test = ss.transform(X_test.A)"
   ]
  },
  {
   "cell_type": "markdown",
   "metadata": {},
   "source": [
    "#### PCA"
   ]
  },
  {
   "cell_type": "code",
   "execution_count": 8,
   "metadata": {
    "collapsed": false
   },
   "outputs": [],
   "source": [
    "pca = PCA()\n",
    "pca.fit(X)\n",
    "f = 5\n",
    "X_pca = pca.transform(X)\n",
    "X_test_pca = pca.transform(X_test)\n",
    "X = np.hstack((X,X_pca[:,:f]))\n",
    "X_test = np.hstack((X_test,X_test_pca[:,:f]))"
   ]
  },
  {
   "cell_type": "markdown",
   "metadata": {},
   "source": [
    "#### Train-test split"
   ]
  },
  {
   "cell_type": "code",
   "execution_count": 9,
   "metadata": {
    "collapsed": true
   },
   "outputs": [],
   "source": [
    "# X_train, X_val, y_train, y_val = train_test_split( X, Y, test_size=0.25)\n",
    "X_train, X_val, y_train, y_val = X[:1000], X[1000:], Y[:1000], Y[1000:]"
   ]
  },
  {
   "cell_type": "code",
   "execution_count": 10,
   "metadata": {
    "collapsed": true
   },
   "outputs": [],
   "source": [
    "dtrain = xgb.DMatrix( X_train, label=y_train )\n",
    "dval = xgb.DMatrix( X_val, label=y_val )\n",
    "dtest = xgb.DMatrix( X_test )"
   ]
  },
  {
   "cell_type": "markdown",
   "metadata": {},
   "source": [
    "#### Boosted trees model "
   ]
  },
  {
   "cell_type": "code",
   "execution_count": 11,
   "metadata": {
    "collapsed": false
   },
   "outputs": [
    {
     "name": "stderr",
     "output_type": "stream",
     "text": [
      "[0]\teval-rmse:11.403349\ttrain-rmse:11.421618\n",
      "[200]\teval-rmse:1.545437\ttrain-rmse:1.561855\n",
      "[400]\teval-rmse:0.246164\ttrain-rmse:0.244733\n",
      "[600]\teval-rmse:0.124228\ttrain-rmse:0.089846\n",
      "[800]\teval-rmse:0.117155\ttrain-rmse:0.070159\n",
      "[1000]\teval-rmse:0.114912\ttrain-rmse:0.060818\n",
      "[1200]\teval-rmse:0.113982\ttrain-rmse:0.053011\n",
      "[1400]\teval-rmse:0.113235\ttrain-rmse:0.046531\n",
      "[1600]\teval-rmse:0.112862\ttrain-rmse:0.040902\n",
      "[1800]\teval-rmse:0.112666\ttrain-rmse:0.036015\n",
      "[2000]\teval-rmse:0.112426\ttrain-rmse:0.031687\n"
     ]
    }
   ],
   "source": [
    "d = 5\n",
    "e = 0.01\n",
    "t = 2000\n",
    "param = {'max_depth':d, \n",
    "         'eta':e, \n",
    "         'subsample':0.5, \n",
    "         'colsample_bytree':0.5,\n",
    "         'colsample_bylevel':0.5,\n",
    "         'silent':1, \n",
    "         'lambda':1.0,\n",
    "         'objective':'reg:linear' }\n",
    "param['eval_metric'] = 'rmse'\n",
    "param['nthread'] = 2\n",
    "evallist  = [(dval,'eval'), (dtrain,'train')]\n",
    "xgb_model = xgb.train(param.items(), dtrain, t+1, evallist, verbose_eval=t//10)"
   ]
  },
  {
   "cell_type": "code",
   "execution_count": 12,
   "metadata": {
    "collapsed": false
   },
   "outputs": [
    {
     "name": "stdout",
     "output_type": "stream",
     "text": [
      "Predicted RMSE (of log-values): 0.1124\n"
     ]
    }
   ],
   "source": [
    "predictions = xgb_model.predict(dval)\n",
    "score = np.sqrt(np.mean((predictions-y_val)**2))\n",
    "print 'Predicted RMSE (of log-values): {}'.format(round(score,4))"
   ]
  },
  {
   "cell_type": "markdown",
   "metadata": {},
   "source": [
    "#### Re-predict with full dataset"
   ]
  },
  {
   "cell_type": "code",
   "execution_count": 13,
   "metadata": {
    "collapsed": false
   },
   "outputs": [],
   "source": [
    "dtrain = xgb.DMatrix( X, label=Y )\n",
    "xgb_model = xgb.train(param.items(), dtrain, t+1)\n",
    "predictions = xgb_model.predict(dtest)"
   ]
  },
  {
   "cell_type": "code",
   "execution_count": 14,
   "metadata": {
    "collapsed": false
   },
   "outputs": [],
   "source": [
    "submission = pd.DataFrame(np.vstack((IDS.astype(str), \n",
    "                                     np.exp(predictions))).T,\n",
    "                          columns=['Id','SalePrice'])\n",
    "submission.to_csv('submission.csv', index=False)"
   ]
  }
 ],
 "metadata": {
  "kernelspec": {
   "display_name": "Python 2",
   "language": "python",
   "name": "python2"
  },
  "language_info": {
   "codemirror_mode": {
    "name": "ipython",
    "version": 2
   },
   "file_extension": ".py",
   "mimetype": "text/x-python",
   "name": "python",
   "nbconvert_exporter": "python",
   "pygments_lexer": "ipython2",
   "version": "2.7.12"
  }
 },
 "nbformat": 4,
 "nbformat_minor": 0
}
