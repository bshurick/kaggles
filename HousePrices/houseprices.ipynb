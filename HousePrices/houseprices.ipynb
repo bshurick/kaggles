{
 "cells": [
  {
   "cell_type": "code",
   "execution_count": 36,
   "metadata": {
    "collapsed": true
   },
   "outputs": [],
   "source": [
    "import pandas as pd\n",
    "import numpy as np\n",
    "import scipy as sp\n",
    "import xgboost as xgb\n",
    "\n",
    "from sklearn.preprocessing import LabelEncoder, OneHotEncoder\n",
    "from sklearn.cross_validation import train_test_split"
   ]
  },
  {
   "cell_type": "code",
   "execution_count": 37,
   "metadata": {
    "collapsed": true
   },
   "outputs": [],
   "source": [
    "DATADIR = './Data/'\n",
    "TRAIN_FILE = 'train.csv'\n",
    "TEST_FILE = 'test.csv'"
   ]
  },
  {
   "cell_type": "code",
   "execution_count": 38,
   "metadata": {
    "collapsed": false
   },
   "outputs": [],
   "source": [
    "train_raw = pd.read_csv(DATADIR+TRAIN_FILE)\n",
    "test_raw = pd.read_csv(DATADIR+TEST_FILE)"
   ]
  },
  {
   "cell_type": "code",
   "execution_count": 39,
   "metadata": {
    "collapsed": false
   },
   "outputs": [],
   "source": [
    "IDS = test_raw['Id']\n",
    "del test_raw['Id']\n",
    "del train_raw['Id']"
   ]
  },
  {
   "cell_type": "code",
   "execution_count": 40,
   "metadata": {
    "collapsed": true
   },
   "outputs": [],
   "source": [
    "Y = np.log(train_raw['SalePrice'].as_matrix())\n",
    "del train_raw['SalePrice']"
   ]
  },
  {
   "cell_type": "code",
   "execution_count": 41,
   "metadata": {
    "collapsed": false
   },
   "outputs": [],
   "source": [
    "for i, f in enumerate(train_raw.columns):\n",
    "    dtypes = train_raw.dtypes\n",
    "    categoricals = []\n",
    "    for i, f in enumerate(train_raw.columns):\n",
    "        if dtypes[f] == np.dtype('O'):\n",
    "            le = LabelEncoder()\n",
    "            concat = (train_raw[f],test_raw[f])\n",
    "            le.fit(np.hstack(concat))\n",
    "            train_raw[f] = le.transform(train_raw[f])\n",
    "            test_raw[f] = le.transform(test_raw[f])\n",
    "            categoricals.append(i)\n",
    "    train_raw = train_raw.fillna(0)\n",
    "    test_raw = test_raw.fillna(0)\n",
    "    ohe = OneHotEncoder(categorical_features=categoricals)\n",
    "    ohe.fit(np.vstack((train_raw,test_raw)))\n",
    "    X = ohe.transform(train_raw)\n",
    "    X_test = ohe.transform(test_raw)"
   ]
  },
  {
   "cell_type": "code",
   "execution_count": 42,
   "metadata": {
    "collapsed": true
   },
   "outputs": [],
   "source": [
    "X_train, X_val, y_train, y_val = train_test_split( X, Y, test_size=0.25)"
   ]
  },
  {
   "cell_type": "code",
   "execution_count": 43,
   "metadata": {
    "collapsed": true
   },
   "outputs": [],
   "source": [
    "X_train, X_val, y_train, y_val = X[:1000], X[1000:], Y[:1000], Y[1000:]"
   ]
  },
  {
   "cell_type": "code",
   "execution_count": 44,
   "metadata": {
    "collapsed": true
   },
   "outputs": [],
   "source": [
    "dtrain = xgb.DMatrix( X_train, label=y_train )\n",
    "dval = xgb.DMatrix( X_val, label=y_val )\n",
    "dtest = xgb.DMatrix( X_test )"
   ]
  },
  {
   "cell_type": "code",
   "execution_count": 45,
   "metadata": {
    "collapsed": false
   },
   "outputs": [
    {
     "name": "stderr",
     "output_type": "stream",
     "text": [
      "[0]\teval-rmse:11.403349\ttrain-rmse:11.421618\n",
      "[200]\teval-rmse:1.545991\ttrain-rmse:1.562856\n",
      "[400]\teval-rmse:0.252748\ttrain-rmse:0.248438\n",
      "[600]\teval-rmse:0.129108\ttrain-rmse:0.092792\n",
      "[800]\teval-rmse:0.120994\ttrain-rmse:0.071813\n",
      "[1000]\teval-rmse:0.119035\ttrain-rmse:0.061867\n",
      "[1200]\teval-rmse:0.118284\ttrain-rmse:0.053685\n",
      "[1400]\teval-rmse:0.117657\ttrain-rmse:0.047001\n",
      "[1600]\teval-rmse:0.117051\ttrain-rmse:0.041133\n",
      "[1800]\teval-rmse:0.116891\ttrain-rmse:0.036311\n",
      "[2000]\teval-rmse:0.116813\ttrain-rmse:0.032131\n"
     ]
    }
   ],
   "source": [
    "d = 5\n",
    "e = 0.01\n",
    "t = 2000\n",
    "param = {'max_depth':d, \n",
    "         'eta':e, \n",
    "         'subsample':0.5, \n",
    "         'colsample_bytree':0.5,\n",
    "         'colsample_bylevel':0.5,\n",
    "         'silent':1, \n",
    "         'lambda':1.0,\n",
    "         'objective':'reg:linear' }\n",
    "param['eval_metric'] = 'rmse'\n",
    "param['nthread'] = 2\n",
    "evallist  = [(dval,'eval'), (dtrain,'train')]\n",
    "xgb_model = xgb.train(param.items(), dtrain, t+1, evallist, verbose_eval=t//10)"
   ]
  },
  {
   "cell_type": "code",
   "execution_count": 46,
   "metadata": {
    "collapsed": false
   },
   "outputs": [
    {
     "name": "stdout",
     "output_type": "stream",
     "text": [
      "Predicted RMSE (of log-values): 0.1168\n"
     ]
    }
   ],
   "source": [
    "predictions = xgb_model.predict(dval)\n",
    "score = np.sqrt(np.mean((predictions-y_val)**2))\n",
    "print 'Predicted RMSE (of log-values): {}'.format(round(score,4))"
   ]
  },
  {
   "cell_type": "code",
   "execution_count": 47,
   "metadata": {
    "collapsed": true
   },
   "outputs": [],
   "source": [
    "dtrain = xgb.DMatrix( X, label=Y )\n",
    "xgb_model = xgb.train(param.items(), dtrain, t+1)\n",
    "predictions = xgb_model.predict(dtest)"
   ]
  },
  {
   "cell_type": "code",
   "execution_count": 48,
   "metadata": {
    "collapsed": false
   },
   "outputs": [],
   "source": [
    "submission = pd.DataFrame(np.vstack((IDS.astype(str), \n",
    "                                     np.exp(predictions))).T,\n",
    "                          columns=['Id','SalePrice'])\n",
    "submission.to_csv('submission.csv', index=False)"
   ]
  }
 ],
 "metadata": {
  "kernelspec": {
   "display_name": "Python 2",
   "language": "python",
   "name": "python2"
  },
  "language_info": {
   "codemirror_mode": {
    "name": "ipython",
    "version": 2
   },
   "file_extension": ".py",
   "mimetype": "text/x-python",
   "name": "python",
   "nbconvert_exporter": "python",
   "pygments_lexer": "ipython2",
   "version": "2.7.12"
  }
 },
 "nbformat": 4,
 "nbformat_minor": 0
}
