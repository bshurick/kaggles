{
 "cells": [
  {
   "cell_type": "markdown",
   "metadata": {},
   "source": [
    "# Two Sigma Rentals\n",
    "\n",
    "Estimate the **interest level** (high, medium, low) for rental advertisements.\n",
    "\n",
    "Data size: \n",
    "* Train: 67mb, 49k records\n",
    "* Test: 101mb, 74k records\n",
    "\n",
    "Data provided on each apartment:\n",
    "* Size (beds, baths)\n",
    "* Building (potential for initial aggregate building model)\n",
    "* Time period\n",
    "* Ad content (description, features)\n",
    "* Location (lat, lon, address) \n",
    "* Manager (potential for initial aggregate manager model)\n",
    "* Price\n",
    "* Photo link (potential for photo model with nn)\n"
   ]
  },
  {
   "cell_type": "markdown",
   "metadata": {},
   "source": [
    "## Plan of attack\n",
    "\n",
    "Start building some basic models & evaluate predictive power with basic features, for benchmarking. Understand the relationships, in general terms.\n",
    "* [basic] evaluate relationship of price and high / low interest levels.\n",
    "* [basic] bedrooms, baths vs interest levels \n",
    "\n",
    "Develop k-fold logic, since data is small. \n",
    "\n",
    "Evaluate relationships of buildings with "
   ]
  },
  {
   "cell_type": "markdown",
   "metadata": {},
   "source": [
    "### Import libraries"
   ]
  },
  {
   "cell_type": "code",
   "execution_count": 1,
   "metadata": {
    "collapsed": true
   },
   "outputs": [],
   "source": [
    "import pandas as pd\n",
    "import numpy as np\n",
    "import json\n",
    "from collections import namedtuple\n",
    "\n",
    "# modeling\n",
    "import statsmodels.api as sm\n",
    "from patsy import dmatrices\n",
    "\n",
    "# viz\n",
    "import seaborn as sns\n",
    "import matplotlib\n",
    "%matplotlib inline"
   ]
  },
  {
   "cell_type": "code",
   "execution_count": 2,
   "metadata": {
    "collapsed": false
   },
   "outputs": [],
   "source": [
    "raw_train = {}\n",
    "with open('Data/train.json','r') as r:\n",
    "    for line in r:\n",
    "        raw_train.update(json.loads(line))\n",
    "\n",
    "raw_test = {}\n",
    "with open('Data/test.json','r') as r:\n",
    "    for line in r:\n",
    "        raw_test.update(json.loads(line))"
   ]
  },
  {
   "cell_type": "code",
   "execution_count": 3,
   "metadata": {
    "collapsed": false
   },
   "outputs": [
    {
     "data": {
      "text/plain": [
       "[u'listing_id',\n",
       " u'building_id',\n",
       " u'display_address',\n",
       " u'description',\n",
       " u'created',\n",
       " u'price',\n",
       " u'bedrooms',\n",
       " u'longitude',\n",
       " u'photos',\n",
       " u'manager_id',\n",
       " u'latitude',\n",
       " u'bathrooms',\n",
       " u'interest_level',\n",
       " u'street_address',\n",
       " u'features']"
      ]
     },
     "execution_count": 3,
     "metadata": {},
     "output_type": "execute_result"
    }
   ],
   "source": [
    "raw_train.keys()"
   ]
  },
  {
   "cell_type": "code",
   "execution_count": 4,
   "metadata": {
    "collapsed": false
   },
   "outputs": [
    {
     "data": {
      "text/plain": [
       "[u'listing_id',\n",
       " u'display_address',\n",
       " u'description',\n",
       " u'created',\n",
       " u'price',\n",
       " u'bedrooms',\n",
       " u'longitude',\n",
       " u'photos',\n",
       " u'manager_id',\n",
       " u'latitude',\n",
       " u'bathrooms',\n",
       " u'building_id',\n",
       " u'street_address',\n",
       " u'features']"
      ]
     },
     "execution_count": 4,
     "metadata": {},
     "output_type": "execute_result"
    }
   ],
   "source": [
    "raw_test.keys()"
   ]
  },
  {
   "cell_type": "code",
   "execution_count": 5,
   "metadata": {
    "collapsed": true
   },
   "outputs": [],
   "source": [
    "y_col = 'interest_level'"
   ]
  },
  {
   "cell_type": "markdown",
   "metadata": {},
   "source": [
    "### Merge datasets"
   ]
  },
  {
   "cell_type": "code",
   "execution_count": 6,
   "metadata": {
    "collapsed": true
   },
   "outputs": [],
   "source": [
    "raw_train_df = pd.DataFrame(raw_train)\n",
    "raw_train_df.index = raw_train_df.listing_id\n",
    "raw_train_df['is_train'] = 1\n",
    "\n",
    "raw_test_df = pd.DataFrame(raw_test)\n",
    "raw_test_df.index = raw_test_df.listing_id\n",
    "raw_test_df['is_train'] = 0\n",
    "\n",
    "raw_train_y = raw_train_df[y_col]\n",
    "\n",
    "fullcols = raw_test_df.columns\n",
    "raw_full_df = pd.concat((raw_train_df[fullcols],\n",
    "                         raw_test_df[fullcols]))"
   ]
  },
  {
   "cell_type": "code",
   "execution_count": 29,
   "metadata": {
    "collapsed": false
   },
   "outputs": [
    {
     "data": {
      "text/plain": [
       "array([u'high', u'low', u'medium'], dtype=object)"
      ]
     },
     "execution_count": 29,
     "metadata": {},
     "output_type": "execute_result"
    }
   ],
   "source": [
    "np.unique(raw_train_y)"
   ]
  },
  {
   "cell_type": "markdown",
   "metadata": {},
   "source": [
    "### Explore data"
   ]
  },
  {
   "cell_type": "code",
   "execution_count": 7,
   "metadata": {
    "collapsed": false
   },
   "outputs": [
    {
     "data": {
      "text/plain": [
       "(49352, 16)"
      ]
     },
     "execution_count": 7,
     "metadata": {},
     "output_type": "execute_result"
    }
   ],
   "source": [
    "raw_train_df.shape"
   ]
  },
  {
   "cell_type": "code",
   "execution_count": 8,
   "metadata": {
    "collapsed": false
   },
   "outputs": [
    {
     "data": {
      "text/plain": [
       "(74659, 15)"
      ]
     },
     "execution_count": 8,
     "metadata": {},
     "output_type": "execute_result"
    }
   ],
   "source": [
    "raw_test_df.shape"
   ]
  },
  {
   "cell_type": "code",
   "execution_count": 9,
   "metadata": {
    "collapsed": false
   },
   "outputs": [
    {
     "data": {
      "text/plain": [
       "(124011, 15)"
      ]
     },
     "execution_count": 9,
     "metadata": {},
     "output_type": "execute_result"
    }
   ],
   "source": [
    "raw_full_df.shape"
   ]
  },
  {
   "cell_type": "code",
   "execution_count": 10,
   "metadata": {
    "collapsed": false
   },
   "outputs": [
    {
     "data": {
      "text/plain": [
       "(array([u'high', u'low', u'medium'], dtype=object),\n",
       " array([ 3839, 34284, 11229]))"
      ]
     },
     "execution_count": 10,
     "metadata": {},
     "output_type": "execute_result"
    }
   ],
   "source": [
    "np.unique(raw_train_y.values, return_counts=True)"
   ]
  },
  {
   "cell_type": "code",
   "execution_count": 11,
   "metadata": {
    "collapsed": false
   },
   "outputs": [
    {
     "data": {
      "text/html": [
       "<div>\n",
       "<table border=\"1\" class=\"dataframe\">\n",
       "  <thead>\n",
       "    <tr style=\"text-align: right;\">\n",
       "      <th></th>\n",
       "      <th>bathrooms</th>\n",
       "      <th>bedrooms</th>\n",
       "      <th>building_id</th>\n",
       "      <th>created</th>\n",
       "      <th>description</th>\n",
       "      <th>display_address</th>\n",
       "      <th>features</th>\n",
       "      <th>latitude</th>\n",
       "      <th>listing_id</th>\n",
       "      <th>longitude</th>\n",
       "      <th>manager_id</th>\n",
       "      <th>photos</th>\n",
       "      <th>price</th>\n",
       "      <th>street_address</th>\n",
       "      <th>is_train</th>\n",
       "    </tr>\n",
       "    <tr>\n",
       "      <th>listing_id</th>\n",
       "      <th></th>\n",
       "      <th></th>\n",
       "      <th></th>\n",
       "      <th></th>\n",
       "      <th></th>\n",
       "      <th></th>\n",
       "      <th></th>\n",
       "      <th></th>\n",
       "      <th></th>\n",
       "      <th></th>\n",
       "      <th></th>\n",
       "      <th></th>\n",
       "      <th></th>\n",
       "      <th></th>\n",
       "      <th></th>\n",
       "    </tr>\n",
       "  </thead>\n",
       "  <tbody>\n",
       "    <tr>\n",
       "      <th>7211212</th>\n",
       "      <td>1.5</td>\n",
       "      <td>3</td>\n",
       "      <td>53a5b119ba8f7b61d4e010512e0dfc85</td>\n",
       "      <td>2016-06-24 07:54:24</td>\n",
       "      <td>A Brand New 3 Bedroom 1.5 bath ApartmentEnjoy ...</td>\n",
       "      <td>Metropolitan Avenue</td>\n",
       "      <td>[]</td>\n",
       "      <td>40.7145</td>\n",
       "      <td>7211212</td>\n",
       "      <td>-73.9425</td>\n",
       "      <td>5ba989232d0489da1b5f2c45f6688adc</td>\n",
       "      <td>[https://photos.renthop.com/2/7211212_1ed4542e...</td>\n",
       "      <td>3000</td>\n",
       "      <td>792 Metropolitan Avenue</td>\n",
       "      <td>1</td>\n",
       "    </tr>\n",
       "    <tr>\n",
       "      <th>7150865</th>\n",
       "      <td>1.0</td>\n",
       "      <td>2</td>\n",
       "      <td>c5c8a357cba207596b04d1afd1e4f130</td>\n",
       "      <td>2016-06-12 12:19:27</td>\n",
       "      <td></td>\n",
       "      <td>Columbus Avenue</td>\n",
       "      <td>[Doorman, Elevator, Fitness Center, Cats Allow...</td>\n",
       "      <td>40.7947</td>\n",
       "      <td>7150865</td>\n",
       "      <td>-73.9667</td>\n",
       "      <td>7533621a882f71e25173b27e3139d83d</td>\n",
       "      <td>[https://photos.renthop.com/2/7150865_be3306c5...</td>\n",
       "      <td>5465</td>\n",
       "      <td>808 Columbus Avenue</td>\n",
       "      <td>1</td>\n",
       "    </tr>\n",
       "    <tr>\n",
       "      <th>6887163</th>\n",
       "      <td>1.0</td>\n",
       "      <td>1</td>\n",
       "      <td>c3ba40552e2120b0acfc3cb5730bb2aa</td>\n",
       "      <td>2016-04-17 03:26:41</td>\n",
       "      <td>Top Top West Village location, beautiful Pre-w...</td>\n",
       "      <td>W 13 Street</td>\n",
       "      <td>[Laundry In Building, Dishwasher, Hardwood Flo...</td>\n",
       "      <td>40.7388</td>\n",
       "      <td>6887163</td>\n",
       "      <td>-74.0018</td>\n",
       "      <td>d9039c43983f6e564b1482b273bd7b01</td>\n",
       "      <td>[https://photos.renthop.com/2/6887163_de85c427...</td>\n",
       "      <td>2850</td>\n",
       "      <td>241 W 13 Street</td>\n",
       "      <td>1</td>\n",
       "    </tr>\n",
       "    <tr>\n",
       "      <th>6888711</th>\n",
       "      <td>1.0</td>\n",
       "      <td>1</td>\n",
       "      <td>28d9ad350afeaab8027513a3e52ac8d5</td>\n",
       "      <td>2016-04-18 02:22:02</td>\n",
       "      <td>Building Amenities - Garage - Garden - fitness...</td>\n",
       "      <td>East 49th Street</td>\n",
       "      <td>[Hardwood Floors, No Fee]</td>\n",
       "      <td>40.7539</td>\n",
       "      <td>6888711</td>\n",
       "      <td>-73.9677</td>\n",
       "      <td>1067e078446a7897d2da493d2f741316</td>\n",
       "      <td>[https://photos.renthop.com/2/6888711_6e660cee...</td>\n",
       "      <td>3275</td>\n",
       "      <td>333 East 49th Street</td>\n",
       "      <td>1</td>\n",
       "    </tr>\n",
       "    <tr>\n",
       "      <th>6934781</th>\n",
       "      <td>1.0</td>\n",
       "      <td>4</td>\n",
       "      <td>0</td>\n",
       "      <td>2016-04-28 01:32:41</td>\n",
       "      <td>Beautifully renovated 3 bedroom flex 4 bedroom...</td>\n",
       "      <td>West 143rd Street</td>\n",
       "      <td>[Pre-War]</td>\n",
       "      <td>40.8241</td>\n",
       "      <td>6934781</td>\n",
       "      <td>-73.9493</td>\n",
       "      <td>98e13ad4b495b9613cef886d79a6291f</td>\n",
       "      <td>[https://photos.renthop.com/2/6934781_1fa4b41a...</td>\n",
       "      <td>3350</td>\n",
       "      <td>500 West 143rd Street</td>\n",
       "      <td>1</td>\n",
       "    </tr>\n",
       "  </tbody>\n",
       "</table>\n",
       "</div>"
      ],
      "text/plain": [
       "            bathrooms  bedrooms                       building_id  \\\n",
       "listing_id                                                          \n",
       "7211212           1.5         3  53a5b119ba8f7b61d4e010512e0dfc85   \n",
       "7150865           1.0         2  c5c8a357cba207596b04d1afd1e4f130   \n",
       "6887163           1.0         1  c3ba40552e2120b0acfc3cb5730bb2aa   \n",
       "6888711           1.0         1  28d9ad350afeaab8027513a3e52ac8d5   \n",
       "6934781           1.0         4                                 0   \n",
       "\n",
       "                        created  \\\n",
       "listing_id                        \n",
       "7211212     2016-06-24 07:54:24   \n",
       "7150865     2016-06-12 12:19:27   \n",
       "6887163     2016-04-17 03:26:41   \n",
       "6888711     2016-04-18 02:22:02   \n",
       "6934781     2016-04-28 01:32:41   \n",
       "\n",
       "                                                  description  \\\n",
       "listing_id                                                      \n",
       "7211212     A Brand New 3 Bedroom 1.5 bath ApartmentEnjoy ...   \n",
       "7150865                                                         \n",
       "6887163     Top Top West Village location, beautiful Pre-w...   \n",
       "6888711     Building Amenities - Garage - Garden - fitness...   \n",
       "6934781     Beautifully renovated 3 bedroom flex 4 bedroom...   \n",
       "\n",
       "                display_address  \\\n",
       "listing_id                        \n",
       "7211212     Metropolitan Avenue   \n",
       "7150865         Columbus Avenue   \n",
       "6887163             W 13 Street   \n",
       "6888711        East 49th Street   \n",
       "6934781       West 143rd Street   \n",
       "\n",
       "                                                     features  latitude  \\\n",
       "listing_id                                                                \n",
       "7211212                                                    []   40.7145   \n",
       "7150865     [Doorman, Elevator, Fitness Center, Cats Allow...   40.7947   \n",
       "6887163     [Laundry In Building, Dishwasher, Hardwood Flo...   40.7388   \n",
       "6888711                             [Hardwood Floors, No Fee]   40.7539   \n",
       "6934781                                             [Pre-War]   40.8241   \n",
       "\n",
       "            listing_id  longitude                        manager_id  \\\n",
       "listing_id                                                            \n",
       "7211212        7211212   -73.9425  5ba989232d0489da1b5f2c45f6688adc   \n",
       "7150865        7150865   -73.9667  7533621a882f71e25173b27e3139d83d   \n",
       "6887163        6887163   -74.0018  d9039c43983f6e564b1482b273bd7b01   \n",
       "6888711        6888711   -73.9677  1067e078446a7897d2da493d2f741316   \n",
       "6934781        6934781   -73.9493  98e13ad4b495b9613cef886d79a6291f   \n",
       "\n",
       "                                                       photos  price  \\\n",
       "listing_id                                                             \n",
       "7211212     [https://photos.renthop.com/2/7211212_1ed4542e...   3000   \n",
       "7150865     [https://photos.renthop.com/2/7150865_be3306c5...   5465   \n",
       "6887163     [https://photos.renthop.com/2/6887163_de85c427...   2850   \n",
       "6888711     [https://photos.renthop.com/2/6888711_6e660cee...   3275   \n",
       "6934781     [https://photos.renthop.com/2/6934781_1fa4b41a...   3350   \n",
       "\n",
       "                     street_address  is_train  \n",
       "listing_id                                     \n",
       "7211212     792 Metropolitan Avenue         1  \n",
       "7150865         808 Columbus Avenue         1  \n",
       "6887163             241 W 13 Street         1  \n",
       "6888711        333 East 49th Street         1  \n",
       "6934781       500 West 143rd Street         1  "
      ]
     },
     "execution_count": 11,
     "metadata": {},
     "output_type": "execute_result"
    }
   ],
   "source": [
    "raw_full_df.head()"
   ]
  },
  {
   "cell_type": "code",
   "execution_count": 12,
   "metadata": {
    "collapsed": false
   },
   "outputs": [
    {
     "data": {
      "text/plain": [
       "1.0      99086\n",
       "2.0      19230\n",
       "3.0       1861\n",
       "1.5       1642\n",
       "0.0        787\n",
       "2.5        702\n",
       "4.0        364\n",
       "3.5        164\n",
       "4.5         83\n",
       "5.0         60\n",
       "5.5         12\n",
       "6.0         11\n",
       "6.5          3\n",
       "20.0         2\n",
       "7.0          1\n",
       "112.0        1\n",
       "7.5          1\n",
       "10.0         1\n",
       "Name: bathrooms, dtype: int64"
      ]
     },
     "execution_count": 12,
     "metadata": {},
     "output_type": "execute_result"
    }
   ],
   "source": [
    "raw_full_df.bathrooms.value_counts()"
   ]
  },
  {
   "cell_type": "code",
   "execution_count": 13,
   "metadata": {
    "collapsed": false
   },
   "outputs": [
    {
     "data": {
      "text/html": [
       "<div>\n",
       "<table border=\"1\" class=\"dataframe\">\n",
       "  <thead>\n",
       "    <tr style=\"text-align: right;\">\n",
       "      <th></th>\n",
       "      <th>bathrooms</th>\n",
       "      <th>bedrooms</th>\n",
       "      <th>building_id</th>\n",
       "      <th>created</th>\n",
       "      <th>description</th>\n",
       "      <th>display_address</th>\n",
       "      <th>features</th>\n",
       "      <th>latitude</th>\n",
       "      <th>listing_id</th>\n",
       "      <th>longitude</th>\n",
       "      <th>manager_id</th>\n",
       "      <th>photos</th>\n",
       "      <th>price</th>\n",
       "      <th>street_address</th>\n",
       "      <th>is_train</th>\n",
       "    </tr>\n",
       "    <tr>\n",
       "      <th>listing_id</th>\n",
       "      <th></th>\n",
       "      <th></th>\n",
       "      <th></th>\n",
       "      <th></th>\n",
       "      <th></th>\n",
       "      <th></th>\n",
       "      <th></th>\n",
       "      <th></th>\n",
       "      <th></th>\n",
       "      <th></th>\n",
       "      <th></th>\n",
       "      <th></th>\n",
       "      <th></th>\n",
       "      <th></th>\n",
       "      <th></th>\n",
       "    </tr>\n",
       "  </thead>\n",
       "  <tbody>\n",
       "    <tr>\n",
       "      <th>7120577</th>\n",
       "      <td>112.0</td>\n",
       "      <td>3</td>\n",
       "      <td>33fa7be8ea2ffc6353af117cab78f569</td>\n",
       "      <td>2016-06-07 05:22:55</td>\n",
       "      <td>This is a pretty, charming, prime location 3 b...</td>\n",
       "      <td>East 75th Street</td>\n",
       "      <td>[Hardwood Floors]</td>\n",
       "      <td>40.7693</td>\n",
       "      <td>7120577</td>\n",
       "      <td>-73.9529</td>\n",
       "      <td>3e1edc05ca35eaecc90766629d22d078</td>\n",
       "      <td>[https://photos.renthop.com/2/7120577_dea70af4...</td>\n",
       "      <td>3700</td>\n",
       "      <td>433 East 75th Street</td>\n",
       "      <td>0</td>\n",
       "    </tr>\n",
       "  </tbody>\n",
       "</table>\n",
       "</div>"
      ],
      "text/plain": [
       "            bathrooms  bedrooms                       building_id  \\\n",
       "listing_id                                                          \n",
       "7120577         112.0         3  33fa7be8ea2ffc6353af117cab78f569   \n",
       "\n",
       "                        created  \\\n",
       "listing_id                        \n",
       "7120577     2016-06-07 05:22:55   \n",
       "\n",
       "                                                  description  \\\n",
       "listing_id                                                      \n",
       "7120577     This is a pretty, charming, prime location 3 b...   \n",
       "\n",
       "             display_address           features  latitude  listing_id  \\\n",
       "listing_id                                                              \n",
       "7120577     East 75th Street  [Hardwood Floors]   40.7693     7120577   \n",
       "\n",
       "            longitude                        manager_id  \\\n",
       "listing_id                                                \n",
       "7120577      -73.9529  3e1edc05ca35eaecc90766629d22d078   \n",
       "\n",
       "                                                       photos  price  \\\n",
       "listing_id                                                             \n",
       "7120577     [https://photos.renthop.com/2/7120577_dea70af4...   3700   \n",
       "\n",
       "                  street_address  is_train  \n",
       "listing_id                                  \n",
       "7120577     433 East 75th Street         0  "
      ]
     },
     "execution_count": 13,
     "metadata": {},
     "output_type": "execute_result"
    }
   ],
   "source": [
    "bad_bathrooms = raw_full_df.bathrooms==112\n",
    "raw_full_df[bad_bathrooms]"
   ]
  },
  {
   "cell_type": "code",
   "execution_count": 14,
   "metadata": {
    "collapsed": false
   },
   "outputs": [],
   "source": [
    "raw_full_df = raw_full_df[~bad_bathrooms]"
   ]
  },
  {
   "cell_type": "code",
   "execution_count": 15,
   "metadata": {
    "collapsed": false
   },
   "outputs": [
    {
     "data": {
      "text/plain": [
       "1    39608\n",
       "2    37114\n",
       "0    23564\n",
       "3    18148\n",
       "4     4887\n",
       "5      569\n",
       "6      112\n",
       "7        6\n",
       "8        2\n",
       "Name: bedrooms, dtype: int64"
      ]
     },
     "execution_count": 15,
     "metadata": {},
     "output_type": "execute_result"
    }
   ],
   "source": [
    "raw_full_df.bedrooms.value_counts()"
   ]
  },
  {
   "cell_type": "code",
   "execution_count": 16,
   "metadata": {
    "collapsed": false
   },
   "outputs": [
    {
     "data": {
      "text/plain": [
       "0                                   20664\n",
       "96274288c84ddd7d5c5d8e425ee75027      705\n",
       "11e1dec9d14b1a9e528386a2504b3afc      546\n",
       "bb8658a3e432fb62a440615333376345      522\n",
       "80a120d6bc3aba97f40fee8c2204524b      510\n",
       "ce6d18bf3238e668b2bf23f4110b7b67      459\n",
       "f68bf347f99df026f4faad43cc604048      457\n",
       "c94301249b8c09429d329864d58e5b82      410\n",
       "ea9045106c4e1fe52853b6af941f1c69      397\n",
       "128d4af0683efc5e1eded8dc8044d5e3      385\n",
       "Name: building_id, dtype: int64"
      ]
     },
     "execution_count": 16,
     "metadata": {},
     "output_type": "execute_result"
    }
   ],
   "source": [
    "raw_full_df.building_id.value_counts()[:10]"
   ]
  },
  {
   "cell_type": "code",
   "execution_count": 17,
   "metadata": {
    "collapsed": false
   },
   "outputs": [
    {
     "data": {
      "text/html": [
       "<div>\n",
       "<table border=\"1\" class=\"dataframe\">\n",
       "  <thead>\n",
       "    <tr style=\"text-align: right;\">\n",
       "      <th></th>\n",
       "      <th>bathrooms</th>\n",
       "      <th>bedrooms</th>\n",
       "      <th>building_id</th>\n",
       "      <th>created</th>\n",
       "      <th>description</th>\n",
       "      <th>display_address</th>\n",
       "      <th>features</th>\n",
       "      <th>latitude</th>\n",
       "      <th>listing_id</th>\n",
       "      <th>longitude</th>\n",
       "      <th>manager_id</th>\n",
       "      <th>photos</th>\n",
       "      <th>price</th>\n",
       "      <th>street_address</th>\n",
       "      <th>is_train</th>\n",
       "    </tr>\n",
       "    <tr>\n",
       "      <th>listing_id</th>\n",
       "      <th></th>\n",
       "      <th></th>\n",
       "      <th></th>\n",
       "      <th></th>\n",
       "      <th></th>\n",
       "      <th></th>\n",
       "      <th></th>\n",
       "      <th></th>\n",
       "      <th></th>\n",
       "      <th></th>\n",
       "      <th></th>\n",
       "      <th></th>\n",
       "      <th></th>\n",
       "      <th></th>\n",
       "      <th></th>\n",
       "    </tr>\n",
       "  </thead>\n",
       "  <tbody>\n",
       "    <tr>\n",
       "      <th>6839190</th>\n",
       "      <td>1.0</td>\n",
       "      <td>1</td>\n",
       "      <td>96274288c84ddd7d5c5d8e425ee75027</td>\n",
       "      <td>2016-04-07 05:22:17</td>\n",
       "      <td>This deal won't last long! Fantastic corner 1 ...</td>\n",
       "      <td>W 37th St.</td>\n",
       "      <td>[Roof Deck, Balcony, Doorman, Elevator, Fitnes...</td>\n",
       "      <td>40.7568</td>\n",
       "      <td>6839190</td>\n",
       "      <td>-73.9982</td>\n",
       "      <td>39af186286605963b1d75543e1492c61</td>\n",
       "      <td>[https://photos.renthop.com/2/6839190_6976106d...</td>\n",
       "      <td>3500</td>\n",
       "      <td>505 W 37th St.</td>\n",
       "      <td>1</td>\n",
       "    </tr>\n",
       "    <tr>\n",
       "      <th>6855104</th>\n",
       "      <td>1.0</td>\n",
       "      <td>2</td>\n",
       "      <td>96274288c84ddd7d5c5d8e425ee75027</td>\n",
       "      <td>2016-04-11 02:45:09</td>\n",
       "      <td>WANT A LUXURY BUILDING IN NYC WITH A SOUTH BEA...</td>\n",
       "      <td>West 37th Street</td>\n",
       "      <td>[Roof Deck, Doorman, Elevator, Fitness Center,...</td>\n",
       "      <td>40.7568</td>\n",
       "      <td>6855104</td>\n",
       "      <td>-73.9982</td>\n",
       "      <td>537e06890f6a86dbb70c187db5be4d55</td>\n",
       "      <td>[https://photos.renthop.com/2/6855104_aad48410...</td>\n",
       "      <td>3100</td>\n",
       "      <td>505 West 37th Street</td>\n",
       "      <td>1</td>\n",
       "    </tr>\n",
       "    <tr>\n",
       "      <th>6942565</th>\n",
       "      <td>1.0</td>\n",
       "      <td>0</td>\n",
       "      <td>96274288c84ddd7d5c5d8e425ee75027</td>\n",
       "      <td>2016-04-29 05:25:04</td>\n",
       "      <td>100% NO FEE!!!!This Amazing LUXURY highrise  X...</td>\n",
       "      <td>West 37th Street</td>\n",
       "      <td>[Roof Deck, Dining Room, Balcony, Doorman, Ele...</td>\n",
       "      <td>40.7568</td>\n",
       "      <td>6942565</td>\n",
       "      <td>-73.9982</td>\n",
       "      <td>1fb46c4a72bcf764ac35fc23f394760d</td>\n",
       "      <td>[https://photos.renthop.com/2/6942565_38f5b22b...</td>\n",
       "      <td>2400</td>\n",
       "      <td>505 West 37th Street</td>\n",
       "      <td>1</td>\n",
       "    </tr>\n",
       "    <tr>\n",
       "      <th>6814881</th>\n",
       "      <td>2.0</td>\n",
       "      <td>3</td>\n",
       "      <td>96274288c84ddd7d5c5d8e425ee75027</td>\n",
       "      <td>2016-04-02 03:11:16</td>\n",
       "      <td>100%NO BROKER FEE &amp;ONE MONTH FREE! INCREDIBLE ...</td>\n",
       "      <td>W 37 St.</td>\n",
       "      <td>[Roof Deck, Doorman, Elevator, Fitness Center,...</td>\n",
       "      <td>40.7568</td>\n",
       "      <td>6814881</td>\n",
       "      <td>-73.9982</td>\n",
       "      <td>b531b97b2c0b72472307b38b55a6d5b5</td>\n",
       "      <td>[https://photos.renthop.com/2/6814881_da8a3ac1...</td>\n",
       "      <td>4400</td>\n",
       "      <td>505 W 37 St.</td>\n",
       "      <td>1</td>\n",
       "    </tr>\n",
       "    <tr>\n",
       "      <th>6925010</th>\n",
       "      <td>1.0</td>\n",
       "      <td>0</td>\n",
       "      <td>96274288c84ddd7d5c5d8e425ee75027</td>\n",
       "      <td>2016-04-26 02:51:47</td>\n",
       "      <td>AMAZING LOCATION!! building located in Midtown...</td>\n",
       "      <td>W 37 St.</td>\n",
       "      <td>[Roof Deck, Doorman, Elevator, Fitness Center,...</td>\n",
       "      <td>40.7568</td>\n",
       "      <td>6925010</td>\n",
       "      <td>-73.9982</td>\n",
       "      <td>e6472c7237327dd3903b3d6f6a94515a</td>\n",
       "      <td>[https://photos.renthop.com/2/6925010_24d46f89...</td>\n",
       "      <td>2500</td>\n",
       "      <td>505 W 37 St.</td>\n",
       "      <td>1</td>\n",
       "    </tr>\n",
       "  </tbody>\n",
       "</table>\n",
       "</div>"
      ],
      "text/plain": [
       "            bathrooms  bedrooms                       building_id  \\\n",
       "listing_id                                                          \n",
       "6839190           1.0         1  96274288c84ddd7d5c5d8e425ee75027   \n",
       "6855104           1.0         2  96274288c84ddd7d5c5d8e425ee75027   \n",
       "6942565           1.0         0  96274288c84ddd7d5c5d8e425ee75027   \n",
       "6814881           2.0         3  96274288c84ddd7d5c5d8e425ee75027   \n",
       "6925010           1.0         0  96274288c84ddd7d5c5d8e425ee75027   \n",
       "\n",
       "                        created  \\\n",
       "listing_id                        \n",
       "6839190     2016-04-07 05:22:17   \n",
       "6855104     2016-04-11 02:45:09   \n",
       "6942565     2016-04-29 05:25:04   \n",
       "6814881     2016-04-02 03:11:16   \n",
       "6925010     2016-04-26 02:51:47   \n",
       "\n",
       "                                                  description  \\\n",
       "listing_id                                                      \n",
       "6839190     This deal won't last long! Fantastic corner 1 ...   \n",
       "6855104     WANT A LUXURY BUILDING IN NYC WITH A SOUTH BEA...   \n",
       "6942565     100% NO FEE!!!!This Amazing LUXURY highrise  X...   \n",
       "6814881     100%NO BROKER FEE &ONE MONTH FREE! INCREDIBLE ...   \n",
       "6925010     AMAZING LOCATION!! building located in Midtown...   \n",
       "\n",
       "             display_address  \\\n",
       "listing_id                     \n",
       "6839190           W 37th St.   \n",
       "6855104     West 37th Street   \n",
       "6942565     West 37th Street   \n",
       "6814881             W 37 St.   \n",
       "6925010             W 37 St.   \n",
       "\n",
       "                                                     features  latitude  \\\n",
       "listing_id                                                                \n",
       "6839190     [Roof Deck, Balcony, Doorman, Elevator, Fitnes...   40.7568   \n",
       "6855104     [Roof Deck, Doorman, Elevator, Fitness Center,...   40.7568   \n",
       "6942565     [Roof Deck, Dining Room, Balcony, Doorman, Ele...   40.7568   \n",
       "6814881     [Roof Deck, Doorman, Elevator, Fitness Center,...   40.7568   \n",
       "6925010     [Roof Deck, Doorman, Elevator, Fitness Center,...   40.7568   \n",
       "\n",
       "            listing_id  longitude                        manager_id  \\\n",
       "listing_id                                                            \n",
       "6839190        6839190   -73.9982  39af186286605963b1d75543e1492c61   \n",
       "6855104        6855104   -73.9982  537e06890f6a86dbb70c187db5be4d55   \n",
       "6942565        6942565   -73.9982  1fb46c4a72bcf764ac35fc23f394760d   \n",
       "6814881        6814881   -73.9982  b531b97b2c0b72472307b38b55a6d5b5   \n",
       "6925010        6925010   -73.9982  e6472c7237327dd3903b3d6f6a94515a   \n",
       "\n",
       "                                                       photos  price  \\\n",
       "listing_id                                                             \n",
       "6839190     [https://photos.renthop.com/2/6839190_6976106d...   3500   \n",
       "6855104     [https://photos.renthop.com/2/6855104_aad48410...   3100   \n",
       "6942565     [https://photos.renthop.com/2/6942565_38f5b22b...   2400   \n",
       "6814881     [https://photos.renthop.com/2/6814881_da8a3ac1...   4400   \n",
       "6925010     [https://photos.renthop.com/2/6925010_24d46f89...   2500   \n",
       "\n",
       "                  street_address  is_train  \n",
       "listing_id                                  \n",
       "6839190           505 W 37th St.         1  \n",
       "6855104     505 West 37th Street         1  \n",
       "6942565     505 West 37th Street         1  \n",
       "6814881             505 W 37 St.         1  \n",
       "6925010             505 W 37 St.         1  "
      ]
     },
     "execution_count": 17,
     "metadata": {},
     "output_type": "execute_result"
    }
   ],
   "source": [
    "raw_full_df[raw_full_df.building_id=='96274288c84ddd7d5c5d8e425ee75027'].head()"
   ]
  },
  {
   "cell_type": "code",
   "execution_count": 18,
   "metadata": {
    "collapsed": false
   },
   "outputs": [],
   "source": [
    "raw_full_df['building_id_iszero'] = raw_full_df.building_id == '0'"
   ]
  },
  {
   "cell_type": "code",
   "execution_count": 19,
   "metadata": {
    "collapsed": false
   },
   "outputs": [
    {
     "data": {
      "text/plain": [
       "False    103346\n",
       "True      20664\n",
       "Name: building_id_iszero, dtype: int64"
      ]
     },
     "execution_count": 19,
     "metadata": {},
     "output_type": "execute_result"
    }
   ],
   "source": [
    "raw_full_df.building_id_iszero.value_counts()"
   ]
  },
  {
   "cell_type": "code",
   "execution_count": 20,
   "metadata": {
    "collapsed": false
   },
   "outputs": [
    {
     "data": {
      "text/html": [
       "<div>\n",
       "<table border=\"1\" class=\"dataframe\">\n",
       "  <thead>\n",
       "    <tr style=\"text-align: right;\">\n",
       "      <th></th>\n",
       "      <th>building_id_iszero</th>\n",
       "    </tr>\n",
       "    <tr>\n",
       "      <th>is_train</th>\n",
       "      <th></th>\n",
       "    </tr>\n",
       "  </thead>\n",
       "  <tbody>\n",
       "    <tr>\n",
       "      <th>0</th>\n",
       "      <td>0.165796</td>\n",
       "    </tr>\n",
       "    <tr>\n",
       "      <th>1</th>\n",
       "      <td>0.167896</td>\n",
       "    </tr>\n",
       "  </tbody>\n",
       "</table>\n",
       "</div>"
      ],
      "text/plain": [
       "          building_id_iszero\n",
       "is_train                    \n",
       "0                   0.165796\n",
       "1                   0.167896"
      ]
     },
     "execution_count": 20,
     "metadata": {},
     "output_type": "execute_result"
    }
   ],
   "source": [
    "raw_full_df[['building_id_iszero','is_train']].groupby('is_train').mean()"
   ]
  },
  {
   "cell_type": "code",
   "execution_count": 21,
   "metadata": {
    "collapsed": false
   },
   "outputs": [],
   "source": [
    "m_df = pd.merge(raw_full_df, pd.DataFrame(raw_train_y), left_index=True, right_index=True)"
   ]
  },
  {
   "cell_type": "code",
   "execution_count": 22,
   "metadata": {
    "collapsed": true
   },
   "outputs": [],
   "source": [
    "m_df['interest_level_ishigh'] = (m_df.interest_level == 'high')*1\n",
    "m_df['interest_level_islow'] = (m_df.interest_level == 'low')*1"
   ]
  },
  {
   "cell_type": "code",
   "execution_count": 23,
   "metadata": {
    "collapsed": false
   },
   "outputs": [],
   "source": [
    "def run_model(formula):\n",
    "    y, X = dmatrices(formula, data=m_df, return_type='dataframe')\n",
    "    mod = sm.OLS(y, X)\n",
    "    res = mod.fit()\n",
    "    print res.summary()"
   ]
  },
  {
   "cell_type": "code",
   "execution_count": 24,
   "metadata": {
    "collapsed": false
   },
   "outputs": [
    {
     "name": "stdout",
     "output_type": "stream",
     "text": [
      "                              OLS Regression Results                             \n",
      "=================================================================================\n",
      "Dep. Variable:     interest_level_ishigh   R-squared:                       0.008\n",
      "Model:                               OLS   Adj. R-squared:                  0.008\n",
      "Method:                    Least Squares   F-statistic:                     412.0\n",
      "Date:                   Sat, 01 Apr 2017   Prob (F-statistic):           3.19e-91\n",
      "Time:                           13:07:34   Log-Likelihood:                -4807.3\n",
      "No. Observations:                  49352   AIC:                             9619.\n",
      "Df Residuals:                      49350   BIC:                             9636.\n",
      "Df Model:                              1                                         \n",
      "Covariance Type:               nonrobust                                         \n",
      "==============================================================================================\n",
      "                                 coef    std err          t      P>|t|      [95.0% Conf. Int.]\n",
      "----------------------------------------------------------------------------------------------\n",
      "Intercept                      0.0887      0.001     67.416      0.000         0.086     0.091\n",
      "building_id_iszero[T.True]    -0.0652      0.003    -20.298      0.000        -0.071    -0.059\n",
      "==============================================================================\n",
      "Omnibus:                    30372.158   Durbin-Watson:                   2.000\n",
      "Prob(Omnibus):                  0.000   Jarque-Bera (JB):           203997.616\n",
      "Skew:                           3.110   Prob(JB):                         0.00\n",
      "Kurtosis:                      10.779   Cond. No.                         2.76\n",
      "==============================================================================\n",
      "\n",
      "Warnings:\n",
      "[1] Standard Errors assume that the covariance matrix of the errors is correctly specified.\n"
     ]
    }
   ],
   "source": [
    "run_model('interest_level_ishigh ~ building_id_iszero')"
   ]
  },
  {
   "cell_type": "code",
   "execution_count": null,
   "metadata": {
    "collapsed": true
   },
   "outputs": [],
   "source": []
  },
  {
   "cell_type": "code",
   "execution_count": 27,
   "metadata": {
    "collapsed": false
   },
   "outputs": [
    {
     "name": "stdout",
     "output_type": "stream",
     "text": [
      "                             OLS Regression Results                             \n",
      "================================================================================\n",
      "Dep. Variable:     interest_level_islow   R-squared:                       0.047\n",
      "Model:                              OLS   Adj. R-squared:                  0.047\n",
      "Method:                   Least Squares   F-statistic:                     1222.\n",
      "Date:                  Sat, 01 Apr 2017   Prob (F-statistic):               0.00\n",
      "Time:                          19:57:13   Log-Likelihood:                -30570.\n",
      "No. Observations:                 49352   AIC:                         6.115e+04\n",
      "Df Residuals:                     49349   BIC:                         6.117e+04\n",
      "Df Model:                             2                                         \n",
      "Covariance Type:              nonrobust                                         \n",
      "==============================================================================================\n",
      "                                 coef    std err          t      P>|t|      [95.0% Conf. Int.]\n",
      "----------------------------------------------------------------------------------------------\n",
      "Intercept                      0.6671      0.004    184.945      0.000         0.660     0.674\n",
      "building_id_iszero[T.True]     0.2642      0.005     48.738      0.000         0.254     0.275\n",
      "bedrooms                      -0.0109      0.002     -5.973      0.000        -0.014    -0.007\n",
      "==============================================================================\n",
      "Omnibus:                   137400.307   Durbin-Watson:                   2.010\n",
      "Prob(Omnibus):                  0.000   Jarque-Bera (JB):             7927.890\n",
      "Skew:                          -0.742   Prob(JB):                         0.00\n",
      "Kurtosis:                       1.715   Cond. No.                         5.77\n",
      "==============================================================================\n",
      "\n",
      "Warnings:\n",
      "[1] Standard Errors assume that the covariance matrix of the errors is correctly specified.\n"
     ]
    }
   ],
   "source": [
    "run_model('interest_level_islow ~ building_id_iszero + bedrooms')"
   ]
  }
 ],
 "metadata": {
  "kernelspec": {
   "display_name": "Python 2",
   "language": "python",
   "name": "python2"
  },
  "language_info": {
   "codemirror_mode": {
    "name": "ipython",
    "version": 2
   },
   "file_extension": ".py",
   "mimetype": "text/x-python",
   "name": "python",
   "nbconvert_exporter": "python",
   "pygments_lexer": "ipython2",
   "version": "2.7.12"
  }
 },
 "nbformat": 4,
 "nbformat_minor": 1
}
