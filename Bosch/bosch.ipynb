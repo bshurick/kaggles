{
 "cells": [
  {
   "cell_type": "code",
   "execution_count": 11,
   "metadata": {
    "collapsed": true
   },
   "outputs": [],
   "source": [
    "from collections import namedtuple"
   ]
  },
  {
   "cell_type": "code",
   "execution_count": 12,
   "metadata": {
    "collapsed": true
   },
   "outputs": [],
   "source": [
    "Files = namedtuple('filelist',['categorical','date','numeric'])\n",
    "Data = namedtuple('data',['categorical','date','numeric'])\n",
    "train_files = Files('./Data/train_categorical.csv.gz',\n",
    "                './Data/train_date.csv.gz',\n",
    "                './Data/train_numeric.csv.gz')\n",
    "test_files = Files('./Data/test_categorical.csv.gz',\n",
    "                './Data/test_date.csv.gz',\n",
    "                './Data/test_numeric.csv.gz')"
   ]
  },
  {
   "cell_type": "code",
   "execution_count": 13,
   "metadata": {
    "collapsed": false
   },
   "outputs": [],
   "source": [
    "# train  \n",
    "train = Data(sc.textFile(train_files.categorical).cache(),\n",
    "             sc.textFile(train_files.date).cache(),\n",
    "             sc.textFile(train_files.numeric).cache())\n",
    "\n",
    "# test \n",
    "test = Data(sc.textFile(test_files.categorical).cache(),\n",
    "             sc.textFile(test_files.date).cache(),\n",
    "             sc.textFile(test_files.numeric).cache())"
   ]
  },
  {
   "cell_type": "code",
   "execution_count": null,
   "metadata": {
    "collapsed": false
   },
   "outputs": [],
   "source": [
    "remove_header = lambda x: x.split(',')[0]!='Id'\n",
    "key_split = lambda x: (x.split(',')[0], x.split(',')[1:])\n",
    "convert_numeric = lambda (k,v): (k, float(v))\n",
    "train_filtered = Data(\n",
    "    train.categorical.filter(remove_header).map(key_split).repartition(100),\n",
    "    train.date.filter(remove_header).map(key_split).repartition(100),\n",
    "    train.numeric.filter(remove_header).map(key_split).map(convert_numeric).repartition(100)\n",
    ")\n",
    "test_filtered = Data(\n",
    "    test.categorical.filter(remove_header).map(key_split).repartition(100),\n",
    "    test.date.filter(remove_header).map(key_split).repartition(100),\n",
    "    test.numeric.filter(remove_header).map(key_split).map(convert_numeric).repartition(100)\n",
    ")"
   ]
  },
  {
   "cell_type": "code",
   "execution_count": null,
   "metadata": {
    "collapsed": false
   },
   "outputs": [],
   "source": [
    "train_filtered.categorical.first()"
   ]
  },
  {
   "cell_type": "code",
   "execution_count": null,
   "metadata": {
    "collapsed": true
   },
   "outputs": [],
   "source": []
  }
 ],
 "metadata": {
  "kernelspec": {
   "display_name": "Python 2",
   "language": "python",
   "name": "python2"
  },
  "language_info": {
   "codemirror_mode": {
    "name": "ipython",
    "version": 2
   },
   "file_extension": ".py",
   "mimetype": "text/x-python",
   "name": "python",
   "nbconvert_exporter": "python",
   "pygments_lexer": "ipython2",
   "version": "2.7.12"
  }
 },
 "nbformat": 4,
 "nbformat_minor": 0
}
