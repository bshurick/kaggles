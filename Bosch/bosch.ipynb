{
 "cells": [
  {
   "cell_type": "code",
   "execution_count": 1,
   "metadata": {
    "collapsed": true
   },
   "outputs": [],
   "source": [
    "from collections import namedtuple"
   ]
  },
  {
   "cell_type": "code",
   "execution_count": 21,
   "metadata": {
    "collapsed": true
   },
   "outputs": [],
   "source": [
    "Files = namedtuple('filelist',['categorical','date','numeric'])\n",
    "Data = namedtuple('data',['categorical','date','numeric','outcome'])\n",
    "train_files = Files('./Data/train_categorical.csv.gz',\n",
    "                './Data/train_date.csv.gz',\n",
    "                './Data/train_numeric.csv.gz')\n",
    "test_files = Files('./Data/test_categorical.csv.gz',\n",
    "                './Data/test_date.csv.gz',\n",
    "                './Data/test_numeric.csv.gz')"
   ]
  },
  {
   "cell_type": "code",
   "execution_count": 22,
   "metadata": {
    "collapsed": false
   },
   "outputs": [
    {
     "ename": "TypeError",
     "evalue": "__new__() takes exactly 5 arguments (4 given)",
     "output_type": "error",
     "traceback": [
      "\u001b[0;31m---------------------------------------------------------------------------\u001b[0m",
      "\u001b[0;31mTypeError\u001b[0m                                 Traceback (most recent call last)",
      "\u001b[0;32m<ipython-input-22-c182e8cdb116>\u001b[0m in \u001b[0;36m<module>\u001b[0;34m()\u001b[0m\n\u001b[1;32m      2\u001b[0m train = Data(sc.textFile(train_files.categorical).cache(),\n\u001b[1;32m      3\u001b[0m              \u001b[0msc\u001b[0m\u001b[0;34m.\u001b[0m\u001b[0mtextFile\u001b[0m\u001b[0;34m(\u001b[0m\u001b[0mtrain_files\u001b[0m\u001b[0;34m.\u001b[0m\u001b[0mdate\u001b[0m\u001b[0;34m)\u001b[0m\u001b[0;34m.\u001b[0m\u001b[0mcache\u001b[0m\u001b[0;34m(\u001b[0m\u001b[0;34m)\u001b[0m\u001b[0;34m,\u001b[0m\u001b[0;34m\u001b[0m\u001b[0m\n\u001b[0;32m----> 4\u001b[0;31m              sc.textFile(train_files.numeric).cache())\n\u001b[0m\u001b[1;32m      5\u001b[0m \u001b[0;34m\u001b[0m\u001b[0m\n\u001b[1;32m      6\u001b[0m \u001b[0;31m# test\u001b[0m\u001b[0;34m\u001b[0m\u001b[0;34m\u001b[0m\u001b[0m\n",
      "\u001b[0;31mTypeError\u001b[0m: __new__() takes exactly 5 arguments (4 given)"
     ]
    }
   ],
   "source": [
    "# train  \n",
    "train = Data(sc.textFile(train_files.categorical).cache(),\n",
    "             sc.textFile(train_files.date).cache(),\n",
    "             sc.textFile(train_files.numeric).cache())\n",
    "\n",
    "# test \n",
    "test = Data(sc.textFile(test_files.categorical).cache(),\n",
    "             sc.textFile(test_files.date).cache(),\n",
    "             sc.textFile(test_files.numeric).cache())"
   ]
  },
  {
   "cell_type": "code",
   "execution_count": 25,
   "metadata": {
    "collapsed": false
   },
   "outputs": [],
   "source": [
    "# filter out first row\n",
    "remove_header = lambda x: x.split(',')[0]!='Id'\n",
    "\n",
    "# split key and fields\n",
    "key_split = lambda x: (int(x.split(',')[0]), x.split(',')[1:])\n",
    "\n",
    "# return outcome from numeric data\n",
    "get_outcome = lambda (k,v): (k, int(v[-1]))\n",
    "\n",
    "def convert_numeric(x):\n",
    "    ''' Gather numeric features '''\n",
    "    k,v = x\n",
    "    output = [0]*len(v[:-1])\n",
    "    for i,x in enumerate(v[:-1]):\n",
    "        output[i] = float(x) if len(x)>0 else 0\n",
    "    return (int(k), output)\n",
    "\n",
    "train_filtered = Data(\n",
    "    train.categorical.filter(remove_header).map(key_split).repartition(100),\n",
    "    train.date.filter(remove_header).map(key_split).repartition(100),\n",
    "    train.numeric.filter(remove_header).map(key_split).map(convert_numeric).repartition(100),\n",
    "    train.numeric.filter(remove_header).map(key_split).map(get_outcome).repartition(100)\n",
    ")\n",
    "test_filtered = Data(\n",
    "    test.categorical.filter(remove_header).map(key_split).repartition(100),\n",
    "    test.date.filter(remove_header).map(key_split).repartition(100),\n",
    "    test.numeric.filter(remove_header).map(key_split).map(convert_numeric).repartition(100),\n",
    "    test.numeric.filter(remove_header).map(key_split).map(get_outcome).repartition(100)\n",
    ")"
   ]
  },
  {
   "cell_type": "code",
   "execution_count": null,
   "metadata": {
    "collapsed": false
   },
   "outputs": [],
   "source": [
    "train_filtered.outcome.first()"
   ]
  },
  {
   "cell_type": "code",
   "execution_count": null,
   "metadata": {
    "collapsed": true
   },
   "outputs": [],
   "source": []
  }
 ],
 "metadata": {
  "kernelspec": {
   "display_name": "Python 2",
   "language": "python",
   "name": "python2"
  },
  "language_info": {
   "codemirror_mode": {
    "name": "ipython",
    "version": 2
   },
   "file_extension": ".py",
   "mimetype": "text/x-python",
   "name": "python",
   "nbconvert_exporter": "python",
   "pygments_lexer": "ipython2",
   "version": "2.7.12"
  }
 },
 "nbformat": 4,
 "nbformat_minor": 0
}
